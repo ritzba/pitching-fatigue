{
 "cells": [
  {
   "cell_type": "code",
   "execution_count": 28,
   "id": "1036849e-66c0-42ab-b455-651de0c40545",
   "metadata": {},
   "outputs": [],
   "source": [
    "#  Import libraries\n",
    "import numpy as np\n",
    "import pandas as pd\n",
    "import matplotlib.pyplot as plt\n",
    "import seaborn as sns\n",
    "\n",
    "sns.set()\n",
    "\n",
    "#  Import python wrapper for pitch-by-pitch data from MLB APIs\n",
    "from pybaseball import statcast"
   ]
  },
  {
   "cell_type": "code",
   "execution_count": 29,
   "id": "7c81b5fa-ecec-436e-b732-1ec8939f9e01",
   "metadata": {},
   "outputs": [],
   "source": [
    "from sklearn.model_selection import train_test_split, cross_val_score, GridSearchCV, RandomizedSearchCV\n",
    "from sklearn.linear_model import LogisticRegression, LinearRegression\n",
    "from sklearn.neighbors import KNeighborsClassifier, KNeighborsRegressor\n",
    "from sklearn.tree import DecisionTreeClassifier, DecisionTreeRegressor\n",
    "from sklearn.ensemble import RandomForestClassifier, AdaBoostClassifier, BaggingClassifier, RandomForestRegressor\n",
    "from sklearn.svm import SVC\n",
    "\n",
    "from sklearn.pipeline import Pipeline, make_pipeline\n",
    "from sklearn.compose import ColumnTransformer\n",
    "from sklearn.preprocessing import StandardScaler, PolynomialFeatures, OneHotEncoder\n",
    "from sklearn.metrics import mean_squared_error, f1_score, confusion_matrix, roc_auc_score\n",
    "from sklearn.naive_bayes import GaussianNB, MultinomialNB, BernoulliNB\n",
    "\n",
    "from sklearn.linear_model import Lasso, ElasticNet, Ridge"
   ]
  },
  {
   "cell_type": "code",
   "execution_count": 30,
   "id": "53669ede-a1e8-46c2-acb0-84a3a8c8fcff",
   "metadata": {},
   "outputs": [
    {
     "name": "stdout",
     "output_type": "stream",
     "text": [
      "This is a large query, it may take a moment to complete\n"
     ]
    },
    {
     "name": "stderr",
     "output_type": "stream",
     "text": [
      "C:\\Users\\rob\\anaconda3\\lib\\site-packages\\pybaseball\\statcast.py:50: UserWarning: \n",
      "That's a nice request you got there. It'd be a shame if something were to happen to it.\n",
      "We strongly recommend that you enable caching before running this. It's as simple as `pybaseball.cache.enable()`.\n",
      "Since the Statcast requests can take a *really* long time to run, if something were to happen, like: a disconnect;\n",
      "gremlins; computer repair by associates of Rudy Giuliani; electromagnetic interference from metal trash cans; etc.;\n",
      "you could lose a lot of progress. Enabling caching will allow you to immediately recover all the successful\n",
      "subqueries if that happens.\n",
      "  warnings.warn(_OVERSIZE_WARNING)\n"
     ]
    },
    {
     "name": "stdout",
     "output_type": "stream",
     "text": [
      "Skipping offseason dates\n"
     ]
    },
    {
     "name": "stderr",
     "output_type": "stream",
     "text": [
      "100%|██████████████████████████████████████████████████████████████████████████████████| 52/52 [01:06<00:00,  1.27s/it]\n"
     ]
    }
   ],
   "source": [
    "#  Pull all pitches thrown in 2023 season through May 5\n",
    "pitches = statcast(start_dt='2023-03-01', end_dt='2023-05-05')"
   ]
  },
  {
   "cell_type": "code",
   "execution_count": 31,
   "id": "839685a1-ec2c-46b1-9fa7-b1161ec0f7fc",
   "metadata": {},
   "outputs": [],
   "source": [
    "import lzma\n",
    "import pickle"
   ]
  },
  {
   "cell_type": "code",
   "execution_count": 32,
   "id": "08bdcdc6-cc9d-4179-9faf-7dfa6650de8d",
   "metadata": {},
   "outputs": [
    {
     "data": {
      "text/html": [
       "<div>\n",
       "<style scoped>\n",
       "    .dataframe tbody tr th:only-of-type {\n",
       "        vertical-align: middle;\n",
       "    }\n",
       "\n",
       "    .dataframe tbody tr th {\n",
       "        vertical-align: top;\n",
       "    }\n",
       "\n",
       "    .dataframe thead th {\n",
       "        text-align: right;\n",
       "    }\n",
       "</style>\n",
       "<table border=\"1\" class=\"dataframe\">\n",
       "  <thead>\n",
       "    <tr style=\"text-align: right;\">\n",
       "      <th></th>\n",
       "      <th>pitch_type</th>\n",
       "      <th>game_date</th>\n",
       "      <th>release_speed</th>\n",
       "      <th>release_pos_x</th>\n",
       "      <th>release_pos_z</th>\n",
       "      <th>player_name</th>\n",
       "      <th>batter</th>\n",
       "      <th>pitcher</th>\n",
       "      <th>events</th>\n",
       "      <th>description</th>\n",
       "      <th>...</th>\n",
       "      <th>fld_score</th>\n",
       "      <th>post_away_score</th>\n",
       "      <th>post_home_score</th>\n",
       "      <th>post_bat_score</th>\n",
       "      <th>post_fld_score</th>\n",
       "      <th>if_fielding_alignment</th>\n",
       "      <th>of_fielding_alignment</th>\n",
       "      <th>spin_axis</th>\n",
       "      <th>delta_home_win_exp</th>\n",
       "      <th>delta_run_exp</th>\n",
       "    </tr>\n",
       "  </thead>\n",
       "  <tbody>\n",
       "    <tr>\n",
       "      <th>3295</th>\n",
       "      <td>SL</td>\n",
       "      <td>2023-05-05</td>\n",
       "      <td>83.1</td>\n",
       "      <td>-2.81</td>\n",
       "      <td>5.97</td>\n",
       "      <td>Romano, Jordan</td>\n",
       "      <td>609280</td>\n",
       "      <td>605447</td>\n",
       "      <td>field_out</td>\n",
       "      <td>hit_into_play</td>\n",
       "      <td>...</td>\n",
       "      <td>4</td>\n",
       "      <td>4</td>\n",
       "      <td>0</td>\n",
       "      <td>0</td>\n",
       "      <td>4</td>\n",
       "      <td>Strategic</td>\n",
       "      <td>Standard</td>\n",
       "      <td>57</td>\n",
       "      <td>-0.001</td>\n",
       "      <td>-0.097</td>\n",
       "    </tr>\n",
       "    <tr>\n",
       "      <th>3404</th>\n",
       "      <td>SL</td>\n",
       "      <td>2023-05-05</td>\n",
       "      <td>84.0</td>\n",
       "      <td>-3.02</td>\n",
       "      <td>5.78</td>\n",
       "      <td>Romano, Jordan</td>\n",
       "      <td>609280</td>\n",
       "      <td>605447</td>\n",
       "      <td>NaN</td>\n",
       "      <td>called_strike</td>\n",
       "      <td>...</td>\n",
       "      <td>4</td>\n",
       "      <td>4</td>\n",
       "      <td>0</td>\n",
       "      <td>0</td>\n",
       "      <td>4</td>\n",
       "      <td>Strategic</td>\n",
       "      <td>Standard</td>\n",
       "      <td>67</td>\n",
       "      <td>0.0</td>\n",
       "      <td>-0.027</td>\n",
       "    </tr>\n",
       "    <tr>\n",
       "      <th>3519</th>\n",
       "      <td>SL</td>\n",
       "      <td>2023-05-05</td>\n",
       "      <td>87.1</td>\n",
       "      <td>-2.98</td>\n",
       "      <td>5.9</td>\n",
       "      <td>Romano, Jordan</td>\n",
       "      <td>609280</td>\n",
       "      <td>605447</td>\n",
       "      <td>NaN</td>\n",
       "      <td>ball</td>\n",
       "      <td>...</td>\n",
       "      <td>4</td>\n",
       "      <td>4</td>\n",
       "      <td>0</td>\n",
       "      <td>0</td>\n",
       "      <td>4</td>\n",
       "      <td>Strategic</td>\n",
       "      <td>Standard</td>\n",
       "      <td>64</td>\n",
       "      <td>0.0</td>\n",
       "      <td>0.021</td>\n",
       "    </tr>\n",
       "    <tr>\n",
       "      <th>3629</th>\n",
       "      <td>FF</td>\n",
       "      <td>2023-05-05</td>\n",
       "      <td>96.9</td>\n",
       "      <td>-2.83</td>\n",
       "      <td>6.02</td>\n",
       "      <td>Romano, Jordan</td>\n",
       "      <td>669261</td>\n",
       "      <td>605447</td>\n",
       "      <td>strikeout</td>\n",
       "      <td>swinging_strike</td>\n",
       "      <td>...</td>\n",
       "      <td>4</td>\n",
       "      <td>4</td>\n",
       "      <td>0</td>\n",
       "      <td>0</td>\n",
       "      <td>4</td>\n",
       "      <td>Standard</td>\n",
       "      <td>Standard</td>\n",
       "      <td>198</td>\n",
       "      <td>-0.005</td>\n",
       "      <td>-0.123</td>\n",
       "    </tr>\n",
       "    <tr>\n",
       "      <th>3702</th>\n",
       "      <td>FF</td>\n",
       "      <td>2023-05-05</td>\n",
       "      <td>94.2</td>\n",
       "      <td>-3.23</td>\n",
       "      <td>5.73</td>\n",
       "      <td>Romano, Jordan</td>\n",
       "      <td>669261</td>\n",
       "      <td>605447</td>\n",
       "      <td>NaN</td>\n",
       "      <td>swinging_strike</td>\n",
       "      <td>...</td>\n",
       "      <td>4</td>\n",
       "      <td>4</td>\n",
       "      <td>0</td>\n",
       "      <td>0</td>\n",
       "      <td>4</td>\n",
       "      <td>Standard</td>\n",
       "      <td>Standard</td>\n",
       "      <td>208</td>\n",
       "      <td>0.0</td>\n",
       "      <td>-0.043</td>\n",
       "    </tr>\n",
       "  </tbody>\n",
       "</table>\n",
       "<p>5 rows × 92 columns</p>\n",
       "</div>"
      ],
      "text/plain": [
       "     pitch_type  game_date  release_speed  release_pos_x  release_pos_z  \\\n",
       "3295         SL 2023-05-05           83.1          -2.81           5.97   \n",
       "3404         SL 2023-05-05           84.0          -3.02           5.78   \n",
       "3519         SL 2023-05-05           87.1          -2.98            5.9   \n",
       "3629         FF 2023-05-05           96.9          -2.83           6.02   \n",
       "3702         FF 2023-05-05           94.2          -3.23           5.73   \n",
       "\n",
       "         player_name  batter  pitcher     events      description  ...  \\\n",
       "3295  Romano, Jordan  609280   605447  field_out    hit_into_play  ...   \n",
       "3404  Romano, Jordan  609280   605447        NaN    called_strike  ...   \n",
       "3519  Romano, Jordan  609280   605447        NaN             ball  ...   \n",
       "3629  Romano, Jordan  669261   605447  strikeout  swinging_strike  ...   \n",
       "3702  Romano, Jordan  669261   605447        NaN  swinging_strike  ...   \n",
       "\n",
       "      fld_score  post_away_score  post_home_score  post_bat_score  \\\n",
       "3295          4                4                0               0   \n",
       "3404          4                4                0               0   \n",
       "3519          4                4                0               0   \n",
       "3629          4                4                0               0   \n",
       "3702          4                4                0               0   \n",
       "\n",
       "      post_fld_score if_fielding_alignment of_fielding_alignment spin_axis  \\\n",
       "3295               4             Strategic              Standard        57   \n",
       "3404               4             Strategic              Standard        67   \n",
       "3519               4             Strategic              Standard        64   \n",
       "3629               4              Standard              Standard       198   \n",
       "3702               4              Standard              Standard       208   \n",
       "\n",
       "     delta_home_win_exp delta_run_exp  \n",
       "3295             -0.001        -0.097  \n",
       "3404                0.0        -0.027  \n",
       "3519                0.0         0.021  \n",
       "3629             -0.005        -0.123  \n",
       "3702                0.0        -0.043  \n",
       "\n",
       "[5 rows x 92 columns]"
      ]
     },
     "execution_count": 32,
     "metadata": {},
     "output_type": "execute_result"
    }
   ],
   "source": [
    "#  View data\n",
    "pitches.head()"
   ]
  },
  {
   "cell_type": "code",
   "execution_count": 33,
   "id": "d9dc5774-d5b4-41ff-9387-e3cbdca3bc5f",
   "metadata": {},
   "outputs": [
    {
     "name": "stdout",
     "output_type": "stream",
     "text": [
      "<class 'pandas.core.frame.DataFrame'>\n",
      "Int64Index: 185617 entries, 3295 to 1377\n",
      "Data columns (total 92 columns):\n",
      " #   Column                           Non-Null Count   Dtype         \n",
      "---  ------                           --------------   -----         \n",
      " 0   pitch_type                       169421 non-null  object        \n",
      " 1   game_date                        185617 non-null  datetime64[ns]\n",
      " 2   release_speed                    169405 non-null  Float64       \n",
      " 3   release_pos_x                    169416 non-null  Float64       \n",
      " 4   release_pos_z                    169416 non-null  Float64       \n",
      " 5   player_name                      185617 non-null  object        \n",
      " 6   batter                           185617 non-null  Int64         \n",
      " 7   pitcher                          185617 non-null  Int64         \n",
      " 8   events                           51503 non-null   object        \n",
      " 9   description                      185617 non-null  object        \n",
      " 10  spin_dir                         0 non-null       Int64         \n",
      " 11  spin_rate_deprecated             0 non-null       Int64         \n",
      " 12  break_angle_deprecated           0 non-null       Int64         \n",
      " 13  break_length_deprecated          0 non-null       Int64         \n",
      " 14  zone                             169416 non-null  Int64         \n",
      " 15  des                              185617 non-null  object        \n",
      " 16  game_type                        185617 non-null  object        \n",
      " 17  stand                            185617 non-null  object        \n",
      " 18  p_throws                         185617 non-null  object        \n",
      " 19  home_team                        185617 non-null  object        \n",
      " 20  away_team                        185617 non-null  object        \n",
      " 21  type                             185617 non-null  object        \n",
      " 22  hit_location                     44786 non-null   Int64         \n",
      " 23  bb_type                          34268 non-null   object        \n",
      " 24  balls                            185617 non-null  Int64         \n",
      " 25  strikes                          185617 non-null  Int64         \n",
      " 26  game_year                        185617 non-null  Int64         \n",
      " 27  pfx_x                            169414 non-null  Float64       \n",
      " 28  pfx_z                            169414 non-null  Float64       \n",
      " 29  plate_x                          169416 non-null  Float64       \n",
      " 30  plate_z                          169416 non-null  Float64       \n",
      " 31  on_3b                            18592 non-null   Int64         \n",
      " 32  on_2b                            36231 non-null   Int64         \n",
      " 33  on_1b                            57680 non-null   Int64         \n",
      " 34  outs_when_up                     185617 non-null  Int64         \n",
      " 35  inning                           185617 non-null  Int64         \n",
      " 36  inning_topbot                    185617 non-null  object        \n",
      " 37  hc_x                             34262 non-null   Float64       \n",
      " 38  hc_y                             34262 non-null   Float64       \n",
      " 39  tfs_deprecated                   0 non-null       Int64         \n",
      " 40  tfs_zulu_deprecated              0 non-null       Int64         \n",
      " 41  fielder_2                        185617 non-null  Int64         \n",
      " 42  umpire                           0 non-null       Int64         \n",
      " 43  sv_id                            0 non-null       Int64         \n",
      " 44  vx0                              169416 non-null  Float64       \n",
      " 45  vy0                              169416 non-null  Float64       \n",
      " 46  vz0                              169416 non-null  Float64       \n",
      " 47  ax                               169416 non-null  Float64       \n",
      " 48  ay                               169416 non-null  Float64       \n",
      " 49  az                               169416 non-null  Float64       \n",
      " 50  sz_top                           169416 non-null  Float64       \n",
      " 51  sz_bot                           169416 non-null  Float64       \n",
      " 52  hit_distance_sc                  54645 non-null   Int64         \n",
      " 53  launch_speed                     54500 non-null   Float64       \n",
      " 54  launch_angle                     54593 non-null   Int64         \n",
      " 55  effective_speed                  169353 non-null  Float64       \n",
      " 56  release_spin_rate                168592 non-null  Int64         \n",
      " 57  release_extension                168925 non-null  Float64       \n",
      " 58  game_pk                          185617 non-null  Int64         \n",
      " 59  pitcher.1                        185617 non-null  Int64         \n",
      " 60  fielder_2.1                      185617 non-null  Int64         \n",
      " 61  fielder_3                        185617 non-null  Int64         \n",
      " 62  fielder_4                        185617 non-null  Int64         \n",
      " 63  fielder_5                        185617 non-null  Int64         \n",
      " 64  fielder_6                        185617 non-null  Int64         \n",
      " 65  fielder_7                        185617 non-null  Int64         \n",
      " 66  fielder_8                        185617 non-null  Int64         \n",
      " 67  fielder_9                        185617 non-null  Int64         \n",
      " 68  release_pos_y                    169416 non-null  Float64       \n",
      " 69  estimated_ba_using_speedangle    28766 non-null   Float64       \n",
      " 70  estimated_woba_using_speedangle  28766 non-null   Float64       \n",
      " 71  woba_value                       51503 non-null   Float64       \n",
      " 72  woba_denom                       36719 non-null   Int64         \n",
      " 73  babip_value                      51503 non-null   Int64         \n",
      " 74  iso_value                        51503 non-null   Int64         \n",
      " 75  launch_speed_angle               28766 non-null   Int64         \n",
      " 76  at_bat_number                    185617 non-null  Int64         \n",
      " 77  pitch_number                     185617 non-null  Int64         \n",
      " 78  pitch_name                       169421 non-null  object        \n",
      " 79  home_score                       185617 non-null  Int64         \n",
      " 80  away_score                       185617 non-null  Int64         \n",
      " 81  bat_score                        185617 non-null  Int64         \n",
      " 82  fld_score                        185617 non-null  Int64         \n",
      " 83  post_away_score                  185617 non-null  Int64         \n",
      " 84  post_home_score                  185617 non-null  Int64         \n",
      " 85  post_bat_score                   185617 non-null  Int64         \n",
      " 86  post_fld_score                   185617 non-null  Int64         \n",
      " 87  if_fielding_alignment            160629 non-null  object        \n",
      " 88  of_fielding_alignment            160629 non-null  object        \n",
      " 89  spin_axis                        168603 non-null  Int64         \n",
      " 90  delta_home_win_exp               185617 non-null  Float64       \n",
      " 91  delta_run_exp                    144322 non-null  Float64       \n",
      "dtypes: Float64(26), Int64(49), datetime64[ns](1), object(16)\n",
      "memory usage: 145.0+ MB\n"
     ]
    }
   ],
   "source": [
    "#  View columns - data dictionary available at https://baseballsavant.mlb.com/csv-docs\n",
    "pitches.info()"
   ]
  },
  {
   "cell_type": "code",
   "execution_count": 34,
   "id": "8f0ebf87-9e09-415f-a471-5b9de1a71350",
   "metadata": {},
   "outputs": [
    {
     "data": {
      "text/plain": [
       "ball                       61292\n",
       "hit_into_play              34274\n",
       "called_strike              30595\n",
       "foul                       30400\n",
       "swinging_strike            21781\n",
       "blocked_ball                3613\n",
       "foul_tip                    1731\n",
       "swinging_strike_blocked     1028\n",
       "hit_by_pitch                 608\n",
       "foul_bunt                    241\n",
       "missed_bunt                   42\n",
       "pitchout                       8\n",
       "bunt_foul_tip                  4\n",
       "Name: description, dtype: int64"
      ]
     },
     "execution_count": 34,
     "metadata": {},
     "output_type": "execute_result"
    }
   ],
   "source": [
    "#  View pitch outcome types\n",
    "pitches['description'].value_counts()"
   ]
  },
  {
   "cell_type": "code",
   "execution_count": 35,
   "id": "f80a2e10-99bb-4fe9-8857-35515703a74d",
   "metadata": {},
   "outputs": [
    {
     "data": {
      "text/plain": [
       "field_out                    19826\n",
       "strikeout                    11979\n",
       "single                        7323\n",
       "walk                          4484\n",
       "double                        2356\n",
       "home_run                      1490\n",
       "force_out                     1022\n",
       "grounded_into_double_play      981\n",
       "hit_by_pitch                   608\n",
       "sac_fly                        351\n",
       "field_error                    345\n",
       "triple                         181\n",
       "double_play                    112\n",
       "sac_bunt                       105\n",
       "fielders_choice                 95\n",
       "fielders_choice_out             76\n",
       "caught_stealing_2b              66\n",
       "catcher_interf                  37\n",
       "strikeout_double_play           35\n",
       "caught_stealing_home             7\n",
       "other_out                        6\n",
       "sac_fly_double_play              6\n",
       "pickoff_1b                       5\n",
       "wild_pitch                       3\n",
       "caught_stealing_3b               3\n",
       "pickoff_3b                       1\n",
       "Name: events, dtype: int64"
      ]
     },
     "execution_count": 35,
     "metadata": {},
     "output_type": "execute_result"
    }
   ],
   "source": [
    "#  View pitch \"event\" outcomes \n",
    "#  Note:  almost all of these are subcategories of pitches['description'] == 'hit_into_play'\n",
    "pitches['events'].value_counts()"
   ]
  },
  {
   "cell_type": "code",
   "execution_count": 36,
   "id": "70cd4750-5688-4558-a90f-5eb10fb94f46",
   "metadata": {},
   "outputs": [
    {
     "data": {
      "text/plain": [
       "R    144334\n",
       "S     41283\n",
       "Name: game_type, dtype: int64"
      ]
     },
     "execution_count": 36,
     "metadata": {},
     "output_type": "execute_result"
    }
   ],
   "source": [
    "#  View types of games\n",
    "pitches['game_type'].value_counts()"
   ]
  },
  {
   "cell_type": "code",
   "execution_count": 37,
   "id": "a4db7231-fdd6-4f95-a8cc-0630d620d33d",
   "metadata": {},
   "outputs": [],
   "source": [
    "#  Limit inquiry to regular season games\n",
    "pitches = pitches[pitches['game_type'] == 'R']"
   ]
  },
  {
   "cell_type": "code",
   "execution_count": 38,
   "id": "55138767-c7b4-4b18-b2b4-53ec08ac0540",
   "metadata": {},
   "outputs": [],
   "source": [
    "#  Dummify pitching hand (1 for Left-handed, 0 for right-handed)\n",
    "pitches['p_throws'] = pitches['p_throws'].apply(lambda x: 1 if x == 'L' else 0)"
   ]
  },
  {
   "cell_type": "code",
   "execution_count": 39,
   "id": "a561ab70-10b0-44ab-85fc-a9c3fd0c2a2d",
   "metadata": {},
   "outputs": [],
   "source": [
    "#  Create feature to distinguish between starters and relievers\n",
    "#  Starting pitchers pitch less frequently, and therefore have longer stamina to remain in a game\n",
    "\n",
    "##  For more background on the differences between starting and relief pitching, \n",
    "##  read descriptions at https://www.mlb.com/glossary/positions/).  \n",
    "\n",
    "#  Noting exceptions (such as the phenomenon of the \"opener\" with the Tampa Bay Rays)\n",
    "#  we assume any pitcher who pitches in the first inning is a starter\n",
    "\n",
    "starters = set(pitches.loc[pitches['inning'] == 1,'player_name'])  \n",
    "pitches['starter'] = [1 if player in starters else 0 for player in pitches['player_name']]"
   ]
  },
  {
   "cell_type": "code",
   "execution_count": 40,
   "id": "4256a924-3d2d-4c80-a932-3f060fe7afbb",
   "metadata": {},
   "outputs": [],
   "source": [
    "#  Create column for number of pitches thrown to that point on that game\n",
    "pitches['pitch_no'] = pitches.groupby(['player_name','game_date']).cumcount() + 1"
   ]
  },
  {
   "cell_type": "code",
   "execution_count": 41,
   "id": "48f26212-eea0-4345-b71f-21f70b3cc891",
   "metadata": {},
   "outputs": [],
   "source": [
    "#  Create target variables for outcomes: ball, swinging strike, foul, called strike, out in the field, and hit.  \n",
    "pitches['ball'] = pitches['description'].apply(lambda x: 1 if x == 'ball' \n",
    "                                               else 1 if x == 'hit_by_pitch'\n",
    "                                               else 1 if x == 'blocked_ball'\n",
    "                                               else 1 if x == 'pitchout'\n",
    "                                               else 0)\n",
    "\n",
    "pitches['swing'] = pitches['description'].apply(lambda x: 1 if x == 'swinging_strike'\n",
    "                                                else 1 if x == 'swinging_strike_blocked'\n",
    "                                                else 1 if x == 'missed_bunt'\n",
    "                                                else 1 if x == 'foul_tip'\n",
    "                                                else 0)\n",
    "\n",
    "pitches['foul'] = pitches['description'].apply(lambda x: 1 if x == 'foul'\n",
    "                                               else 1 if x == 'foul_bunt'\n",
    "                                               else 1 if x == 'bunt_foul_tip'\n",
    "                                               else 0)\n",
    "\n",
    "pitches['called'] = pitches['description'].apply(lambda x: 1 if x == 'called_strike' else 0)\n",
    "\n",
    "pitches['out'] = pitches['events'].apply(lambda x: 1 if x == 'field_out' \n",
    "                                         else 1 if x == 'grounded_into_double_play'\n",
    "                                         else 1 if x == 'force_out'\n",
    "                                         else 1 if x == 'double_play'\n",
    "                                         else 1 if x == 'sac_fly_double_play'\n",
    "                                         else 1 if x == 'fielders_choice_out'\n",
    "                                         else 1 if x == 'fielders_choice'\n",
    "                                         else 0)\n",
    "\n",
    "pitches['hit'] = pitches['events'].apply(lambda x: 1 if x == 'single'\n",
    "                                         else 1 if x == 'double'\n",
    "                                         else 1 if x == 'triple'\n",
    "                                         else 1 if x == 'home_run'\n",
    "                                         else 1 if x == 'sac_fly'\n",
    "                                         else 1 if x == 'sac_bunt'\n",
    "                                         else 1 if x == 'field_error'\n",
    "                                         else 1 if x == 'catcher_interf'\n",
    "                                         else 0)"
   ]
  },
  {
   "cell_type": "code",
   "execution_count": null,
   "id": "d69faeef-b589-496c-b937-3a84f2adb06c",
   "metadata": {},
   "outputs": [],
   "source": [
    "#  View pitch types\n",
    "pitches['pitch_type'].value_counts()"
   ]
  },
  {
   "cell_type": "code",
   "execution_count": null,
   "id": "cc4b8897-978a-4ced-8c43-59a09b487399",
   "metadata": {},
   "outputs": [],
   "source": [
    "#  View pitch names for reference (each one matches the code in pitch_type)\n",
    "pitches['pitch_name'].value_counts()"
   ]
  },
  {
   "cell_type": "code",
   "execution_count": null,
   "id": "bbc284c1-1bdb-40f5-bcdd-eb5abe7b522c",
   "metadata": {},
   "outputs": [],
   "source": [
    "#  View columns with highest null count\n",
    "pitches.isnull().sum().sort_values(ascending = False).head(50)"
   ]
  },
  {
   "cell_type": "code",
   "execution_count": 18,
   "id": "6d87f408-24ea-47c8-b5a9-ee5c577ca439",
   "metadata": {},
   "outputs": [],
   "source": [
    "#  Engineer vehicles to emphasize vertical movement (reasons discussed in EDA)\n",
    "pitches['vz0*2'] = pitches['vz0'] ** 2"
   ]
  },
  {
   "cell_type": "code",
   "execution_count": 19,
   "id": "80338d34-e4ac-4fcc-9b5d-9846e17feed0",
   "metadata": {},
   "outputs": [],
   "source": [
    "pitches['pfx_z*2'] = pitches['pfx_z'] ** 2"
   ]
  },
  {
   "cell_type": "code",
   "execution_count": 20,
   "id": "05d76b66-cf57-4728-832e-917aecef6c03",
   "metadata": {
    "tags": []
   },
   "outputs": [],
   "source": [
    "pitches['plate_z*2'] = pitches['plate_z'] ** 2"
   ]
  },
  {
   "cell_type": "code",
   "execution_count": 21,
   "id": "0ab5851c-a6fb-4309-aae1-d92816cc072f",
   "metadata": {},
   "outputs": [
    {
     "data": {
      "text/plain": [
       "0"
      ]
     },
     "execution_count": 21,
     "metadata": {},
     "output_type": "execute_result"
    }
   ],
   "source": [
    "# Drop columns with nulls > 472\n",
    "##  release_extension has the highest nulls for any of the remaining columns of interest\n",
    "pitches.dropna(axis = 1, thresh = 144344-472, inplace = True)\n",
    "\n",
    "#  Drop remaining rows with nulls\n",
    "pitches.dropna(axis = 0, inplace = True)\n",
    "\n",
    "#  Check for any remaining nulls\n",
    "pitches.isnull().sum().sum()"
   ]
  },
  {
   "cell_type": "code",
   "execution_count": 22,
   "id": "c70144f5-47a8-4510-935a-b09441dc5ff7",
   "metadata": {},
   "outputs": [],
   "source": [
    "#  Define columns of interest (features and target)\n",
    "pitches = pitches[['vx0', 'vy0', 'vz0',\n",
    " 'release_speed', 'release_spin_rate','pfx_x', 'pfx_z', 'plate_x', 'plate_z',\n",
    " 'ax', 'ay', 'az', 'release_pos_x', 'release_pos_y', 'release_pos_z',\n",
    " 'vz0*2',\n",
    " 'pfx_z*2',\n",
    " 'plate_z*2','p_throws','starter',\n",
    " 'sz_top',\n",
    " 'sz_bot','pitch_type','player_name','pitch_no',\n",
    "                  'ball', 'swing','called','foul', 'out','hit']]"
   ]
  },
  {
   "cell_type": "code",
   "execution_count": 23,
   "id": "bb97c60e-8a39-49a5-b86e-20620a921bf9",
   "metadata": {},
   "outputs": [],
   "source": [
    "#  Compress and store as lzma pickled file\n",
    "with lzma.open(\"../data/pitches.xz\", \"wb\") as f:\n",
    "    pickle.dump(pitches, f)"
   ]
  },
  {
   "cell_type": "code",
   "execution_count": null,
   "id": "bc7e9de4-7cb0-4b68-8511-a6eca9d326fc",
   "metadata": {},
   "outputs": [],
   "source": []
  },
  {
   "cell_type": "code",
   "execution_count": null,
   "id": "c41764ac-5bac-46d9-9b98-203e0756c74e",
   "metadata": {},
   "outputs": [],
   "source": []
  },
  {
   "cell_type": "code",
   "execution_count": null,
   "id": "fc5031dd-bf59-455f-b028-8452e7a45429",
   "metadata": {},
   "outputs": [],
   "source": []
  },
  {
   "cell_type": "code",
   "execution_count": 380,
   "id": "7f3190e9-b88e-43b6-94db-aabc493c06f0",
   "metadata": {},
   "outputs": [],
   "source": []
  },
  {
   "cell_type": "code",
   "execution_count": null,
   "id": "55d9d8e2-803d-48ab-ad34-9c070d87fb8d",
   "metadata": {},
   "outputs": [],
   "source": []
  },
  {
   "cell_type": "code",
   "execution_count": null,
   "id": "6787b47d-431d-44da-a606-55437e49aff4",
   "metadata": {},
   "outputs": [],
   "source": []
  },
  {
   "cell_type": "code",
   "execution_count": 400,
   "id": "da9bd5ba-fcf9-45a0-a6c6-5c92777adfcd",
   "metadata": {},
   "outputs": [],
   "source": [
    "import pickle\n",
    "pickle.dump(X_train, open('../data/X_train.pkl', 'wb'))"
   ]
  },
  {
   "cell_type": "code",
   "execution_count": 7,
   "id": "edfcfefe-5978-4da8-9cd7-7c6becb38910",
   "metadata": {},
   "outputs": [],
   "source": [
    "X_train = pd.read_csv('../data/X_train.csv')"
   ]
  },
  {
   "cell_type": "code",
   "execution_count": 8,
   "id": "435a4637-14ce-462c-b89b-d17fcbac74f0",
   "metadata": {},
   "outputs": [],
   "source": [
    "X_test = pd.read_csv('../data/X_train.csv')\n",
    "y_train = pd.read_csv('../data/y_train.csv')\n",
    "y_test = pd.read_csv('../data/y_test.csv')"
   ]
  },
  {
   "cell_type": "code",
   "execution_count": 9,
   "id": "a7692199-5080-4e9b-a294-2c1971cb76af",
   "metadata": {},
   "outputs": [],
   "source": [
    "import lzma"
   ]
  },
  {
   "cell_type": "code",
   "execution_count": 11,
   "id": "0dfb3685-988b-4d06-970d-b23100243def",
   "metadata": {},
   "outputs": [],
   "source": [
    "import pickle"
   ]
  },
  {
   "cell_type": "code",
   "execution_count": null,
   "id": "3599256e-92b5-4fa8-959b-66e3cd26b823",
   "metadata": {},
   "outputs": [],
   "source": []
  },
  {
   "cell_type": "code",
   "execution_count": null,
   "id": "df08c1bf-d2f1-45a1-85fc-92f752de1be7",
   "metadata": {},
   "outputs": [],
   "source": []
  },
  {
   "cell_type": "code",
   "execution_count": null,
   "id": "fc9d8c09-8ce0-4dfc-922f-1989a063cc9e",
   "metadata": {},
   "outputs": [],
   "source": []
  },
  {
   "cell_type": "code",
   "execution_count": null,
   "id": "2da62311-4a74-4fd9-83ca-e14920f8bb11",
   "metadata": {},
   "outputs": [],
   "source": [
    "with lzma.open(\"../data/X_train.xz\", \"wb\") as f:\n",
    "    pickle.dump(X_train, f)"
   ]
  },
  {
   "cell_type": "code",
   "execution_count": 244,
   "id": "a9fa03e4-4fb1-4682-ba35-45087c318d15",
   "metadata": {},
   "outputs": [],
   "source": []
  },
  {
   "cell_type": "code",
   "execution_count": 306,
   "id": "bdcb4fd0-bef5-4c89-8dae-e70023850e6b",
   "metadata": {},
   "outputs": [
    {
     "data": {
      "text/html": [
       "<style>#sk-container-id-47 {color: black;background-color: white;}#sk-container-id-47 pre{padding: 0;}#sk-container-id-47 div.sk-toggleable {background-color: white;}#sk-container-id-47 label.sk-toggleable__label {cursor: pointer;display: block;width: 100%;margin-bottom: 0;padding: 0.3em;box-sizing: border-box;text-align: center;}#sk-container-id-47 label.sk-toggleable__label-arrow:before {content: \"▸\";float: left;margin-right: 0.25em;color: #696969;}#sk-container-id-47 label.sk-toggleable__label-arrow:hover:before {color: black;}#sk-container-id-47 div.sk-estimator:hover label.sk-toggleable__label-arrow:before {color: black;}#sk-container-id-47 div.sk-toggleable__content {max-height: 0;max-width: 0;overflow: hidden;text-align: left;background-color: #f0f8ff;}#sk-container-id-47 div.sk-toggleable__content pre {margin: 0.2em;color: black;border-radius: 0.25em;background-color: #f0f8ff;}#sk-container-id-47 input.sk-toggleable__control:checked~div.sk-toggleable__content {max-height: 200px;max-width: 100%;overflow: auto;}#sk-container-id-47 input.sk-toggleable__control:checked~label.sk-toggleable__label-arrow:before {content: \"▾\";}#sk-container-id-47 div.sk-estimator input.sk-toggleable__control:checked~label.sk-toggleable__label {background-color: #d4ebff;}#sk-container-id-47 div.sk-label input.sk-toggleable__control:checked~label.sk-toggleable__label {background-color: #d4ebff;}#sk-container-id-47 input.sk-hidden--visually {border: 0;clip: rect(1px 1px 1px 1px);clip: rect(1px, 1px, 1px, 1px);height: 1px;margin: -1px;overflow: hidden;padding: 0;position: absolute;width: 1px;}#sk-container-id-47 div.sk-estimator {font-family: monospace;background-color: #f0f8ff;border: 1px dotted black;border-radius: 0.25em;box-sizing: border-box;margin-bottom: 0.5em;}#sk-container-id-47 div.sk-estimator:hover {background-color: #d4ebff;}#sk-container-id-47 div.sk-parallel-item::after {content: \"\";width: 100%;border-bottom: 1px solid gray;flex-grow: 1;}#sk-container-id-47 div.sk-label:hover label.sk-toggleable__label {background-color: #d4ebff;}#sk-container-id-47 div.sk-serial::before {content: \"\";position: absolute;border-left: 1px solid gray;box-sizing: border-box;top: 0;bottom: 0;left: 50%;z-index: 0;}#sk-container-id-47 div.sk-serial {display: flex;flex-direction: column;align-items: center;background-color: white;padding-right: 0.2em;padding-left: 0.2em;position: relative;}#sk-container-id-47 div.sk-item {position: relative;z-index: 1;}#sk-container-id-47 div.sk-parallel {display: flex;align-items: stretch;justify-content: center;background-color: white;position: relative;}#sk-container-id-47 div.sk-item::before, #sk-container-id-47 div.sk-parallel-item::before {content: \"\";position: absolute;border-left: 1px solid gray;box-sizing: border-box;top: 0;bottom: 0;left: 50%;z-index: -1;}#sk-container-id-47 div.sk-parallel-item {display: flex;flex-direction: column;z-index: 1;position: relative;background-color: white;}#sk-container-id-47 div.sk-parallel-item:first-child::after {align-self: flex-end;width: 50%;}#sk-container-id-47 div.sk-parallel-item:last-child::after {align-self: flex-start;width: 50%;}#sk-container-id-47 div.sk-parallel-item:only-child::after {width: 0;}#sk-container-id-47 div.sk-dashed-wrapped {border: 1px dashed gray;margin: 0 0.4em 0.5em 0.4em;box-sizing: border-box;padding-bottom: 0.4em;background-color: white;}#sk-container-id-47 div.sk-label label {font-family: monospace;font-weight: bold;display: inline-block;line-height: 1.2em;}#sk-container-id-47 div.sk-label-container {text-align: center;}#sk-container-id-47 div.sk-container {/* jupyter's `normalize.less` sets `[hidden] { display: none; }` but bootstrap.min.css set `[hidden] { display: none !important; }` so we also need the `!important` here to be able to override the default hidden behavior on the sphinx rendered scikit-learn.org. See: https://github.com/scikit-learn/scikit-learn/issues/21755 */display: inline-block !important;position: relative;}#sk-container-id-47 div.sk-text-repr-fallback {display: none;}</style><div id=\"sk-container-id-47\" class=\"sk-top-container\"><div class=\"sk-text-repr-fallback\"><pre>ElasticNet(alpha=5, l1_ratio=0.001)</pre><b>In a Jupyter environment, please rerun this cell to show the HTML representation or trust the notebook. <br />On GitHub, the HTML representation is unable to render, please try loading this page with nbviewer.org.</b></div><div class=\"sk-container\" hidden><div class=\"sk-item\"><div class=\"sk-estimator sk-toggleable\"><input class=\"sk-toggleable__control sk-hidden--visually\" id=\"sk-estimator-id-47\" type=\"checkbox\" checked><label for=\"sk-estimator-id-47\" class=\"sk-toggleable__label sk-toggleable__label-arrow\">ElasticNet</label><div class=\"sk-toggleable__content\"><pre>ElasticNet(alpha=5, l1_ratio=0.001)</pre></div></div></div></div></div>"
      ],
      "text/plain": [
       "ElasticNet(alpha=5, l1_ratio=0.001)"
      ]
     },
     "execution_count": 306,
     "metadata": {},
     "output_type": "execute_result"
    }
   ],
   "source": [
    "enet = ElasticNet(alpha = 5, l1_ratio = 0.001)\n",
    "enet.fit(X_train, y_train)"
   ]
  },
  {
   "cell_type": "code",
   "execution_count": 312,
   "id": "29b0d196-b8d7-4470-bcc8-1265f40e3c7c",
   "metadata": {},
   "outputs": [],
   "source": [
    "train_score = cross_val_score(enet, X_train, y_train, scoring = 'neg_mean_squared_error', cv = 5).mean()"
   ]
  },
  {
   "cell_type": "code",
   "execution_count": 314,
   "id": "d89c65c0-79a2-42f2-8041-862824e901c1",
   "metadata": {},
   "outputs": [
    {
     "data": {
      "text/plain": [
       "2.274958516205618"
      ]
     },
     "execution_count": 314,
     "metadata": {},
     "output_type": "execute_result"
    }
   ],
   "source": [
    "(train_score * -1) ** 0.5"
   ]
  },
  {
   "cell_type": "code",
   "execution_count": 316,
   "id": "d7379426-2fce-43d1-9014-16cfa6133478",
   "metadata": {},
   "outputs": [],
   "source": [
    "test_score = cross_val_score(enet, X_test, y_test, scoring = 'neg_mean_squared_error', cv = 5).mean()"
   ]
  },
  {
   "cell_type": "code",
   "execution_count": 317,
   "id": "edf0eb6f-9399-485f-893a-e79abb9037af",
   "metadata": {},
   "outputs": [
    {
     "data": {
      "text/plain": [
       "2.289143682670437"
      ]
     },
     "execution_count": 317,
     "metadata": {},
     "output_type": "execute_result"
    }
   ],
   "source": [
    "(test_score * -1) ** 0.5"
   ]
  },
  {
   "cell_type": "code",
   "execution_count": 319,
   "id": "c7cd4003-7244-4c2e-8ae2-93a181dc066e",
   "metadata": {},
   "outputs": [
    {
     "data": {
      "text/plain": [
       "(35953, 623)"
      ]
     },
     "execution_count": 319,
     "metadata": {},
     "output_type": "execute_result"
    }
   ],
   "source": [
    "X_test.shape"
   ]
  },
  {
   "cell_type": "code",
   "execution_count": 329,
   "id": "46a912f9-15a7-45e7-9767-6ec5dccdb341",
   "metadata": {},
   "outputs": [
    {
     "data": {
      "text/plain": [
       "[<matplotlib.lines.Line2D at 0x1828d433a90>]"
      ]
     },
     "execution_count": 329,
     "metadata": {},
     "output_type": "execute_result"
    },
    {
     "data": {
      "image/png": "[encoded data removed]",
      "text/plain": [
       "<Figure size 640x480 with 1 Axes>"
      ]
     },
     "metadata": {},
     "output_type": "display_data"
    }
   ],
   "source": [
    "plt.scatter(y = enet.predict(X_test) ** 2, x = y_test ** 2, s = 1)\n",
    "plt.plot([0,100],[0,100], linestyle = '--')"
   ]
  },
  {
   "cell_type": "code",
   "execution_count": null,
   "id": "8183a73d-b690-4a47-8b59-fdf458a4a615",
   "metadata": {},
   "outputs": [],
   "source": [
    "import pickle"
   ]
  },
  {
   "cell_type": "code",
   "execution_count": 346,
   "id": "e67d7e34-0f49-4163-ba7d-63d582a0ae54",
   "metadata": {},
   "outputs": [],
   "source": [
    "import pickle\n",
    "pickle.dump(ss, open('../data/scaler.pkl', 'wb'))"
   ]
  },
  {
   "cell_type": "code",
   "execution_count": 348,
   "id": "77f0870d-c637-4cd9-9152-69bf21b0f7e0",
   "metadata": {},
   "outputs": [],
   "source": [
    "pickle.dump(enet, open('../data/model.pkl', 'wb'))"
   ]
  },
  {
   "cell_type": "code",
   "execution_count": 330,
   "id": "ee38dda6-842b-4e2e-9a10-3fadf5bb2bfb",
   "metadata": {},
   "outputs": [],
   "source": []
  },
  {
   "cell_type": "code",
   "execution_count": 340,
   "id": "855e7298-4068-4c60-9a56-1ffb4330f94c",
   "metadata": {},
   "outputs": [],
   "source": [
    "filename = 'model.sav'"
   ]
  },
  {
   "cell_type": "code",
   "execution_count": 337,
   "id": "dae7a6fc-0fa9-4be8-8040-87f7bf6ce530",
   "metadata": {},
   "outputs": [],
   "source": [
    "pickle.dump(enet, open('../data/model.sav', 'wb'))"
   ]
  },
  {
   "cell_type": "code",
   "execution_count": null,
   "id": "fceaab9a-4766-45d7-93a3-423d6e6b6ea8",
   "metadata": {},
   "outputs": [],
   "source": []
  },
  {
   "cell_type": "code",
   "execution_count": 338,
   "id": "f7e04287-8530-45ae-a3c4-10f98aa426f6",
   "metadata": {},
   "outputs": [],
   "source": [
    "new_model = pickle.load(open('../data/model.sav', 'rb'))"
   ]
  },
  {
   "cell_type": "code",
   "execution_count": 339,
   "id": "8ff0936c-40ac-4d99-a3be-989a98aff192",
   "metadata": {},
   "outputs": [
    {
     "data": {
      "text/plain": [
       "'model.sav'"
      ]
     },
     "execution_count": 339,
     "metadata": {},
     "output_type": "execute_result"
    }
   ],
   "source": [
    "new_model"
   ]
  },
  {
   "cell_type": "code",
   "execution_count": null,
   "id": "119619d6-e8b6-4efb-8c03-c5f47e80376e",
   "metadata": {},
   "outputs": [],
   "source": []
  },
  {
   "cell_type": "code",
   "execution_count": null,
   "id": "33ad2e6b-e253-448b-8389-90359971bf5b",
   "metadata": {},
   "outputs": [],
   "source": []
  },
  {
   "cell_type": "code",
   "execution_count": null,
   "id": "4108a083-f3a0-4fa2-a33b-e68c303a06cb",
   "metadata": {},
   "outputs": [],
   "source": []
  },
  {
   "cell_type": "code",
   "execution_count": null,
   "id": "2c2dac61-8754-4076-b299-4d0f3a3b5f8c",
   "metadata": {},
   "outputs": [],
   "source": []
  },
  {
   "cell_type": "code",
   "execution_count": 393,
   "id": "ed47f291-2660-4bc3-9524-aeba18b4072f",
   "metadata": {},
   "outputs": [
    {
     "name": "stderr",
     "output_type": "stream",
     "text": [
      "C:\\Users\\rob\\AppData\\Local\\Temp\\ipykernel_9140\\2939201450.py:2: SettingWithCopyWarning: \n",
      "A value is trying to be set on a copy of a slice from a DataFrame.\n",
      "Try using .loc[row_indexer,col_indexer] = value instead\n",
      "\n",
      "See the caveats in the documentation: https://pandas.pydata.org/pandas-docs/stable/user_guide/indexing.html#returning-a-view-versus-a-copy\n",
      "  X['pitch_type_orig'] = X['pitch_type']\n"
     ]
    }
   ],
   "source": [
    "#  Dummify pitch type, but keep original for further preprocessing\n",
    "X['pitch_type_orig'] = X['pitch_type']\n",
    "X = pd.get_dummies(X, columns = ['pitch_type'])"
   ]
  }
 ],
 "metadata": {
  "kernelspec": {
   "display_name": "Python 3 (ipykernel)",
   "language": "python",
   "name": "python3"
  },
  "language_info": {
   "codemirror_mode": {
    "name": "ipython",
    "version": 3
   },
   "file_extension": ".py",
   "mimetype": "text/x-python",
   "name": "python",
   "nbconvert_exporter": "python",
   "pygments_lexer": "ipython3",
   "version": "3.10.9"
  }
 },
 "nbformat": 4,
 "nbformat_minor": 5
}
