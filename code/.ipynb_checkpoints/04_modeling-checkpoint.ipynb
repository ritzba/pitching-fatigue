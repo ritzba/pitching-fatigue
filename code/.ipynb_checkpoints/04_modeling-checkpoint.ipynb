{
 "cells": [
  {
   "cell_type": "code",
   "execution_count": 6,
   "id": "46b1e677-1fd1-4cfe-b632-9d24578aa66b",
   "metadata": {
    "tags": []
   },
   "outputs": [],
   "source": [
    "import pandas as pd\n",
    "import numpy as np\n",
    "import matplotlib.pyplot as plt\n",
    "import seaborn as sns\n",
    "sns.set()\n",
    "\n",
    "\n",
    "from sklearn.model_selection import train_test_split, cross_val_score\n",
    "from sklearn.linear_model import LinearRegression, ElasticNet\n",
    "from sklearn.compose import ColumnTransformer\n",
    "from sklearn.preprocessing import StandardScaler\n",
    "from sklearn.metrics import mean_squared_error"
   ]
  },
  {
   "cell_type": "code",
   "execution_count": 7,
   "id": "fdb868d6-6cec-46b7-a099-0bf34ecdd0f6",
   "metadata": {},
   "outputs": [],
   "source": [
    "from pybaseball import statcast_pitcher\n",
    "from pybaseball import playerid_lookup"
   ]
  },
  {
   "cell_type": "code",
   "execution_count": 8,
   "id": "70b4319e-264a-40a4-b257-1877c9d64354",
   "metadata": {},
   "outputs": [],
   "source": [
    "from pybaseball import statcast"
   ]
  },
  {
   "cell_type": "code",
   "execution_count": 9,
   "id": "0515a81c-9d72-429f-bc96-a2157f0ba700",
   "metadata": {},
   "outputs": [],
   "source": [
    "import lzma\n",
    "import pickle"
   ]
  },
  {
   "cell_type": "code",
   "execution_count": 10,
   "id": "4da135e8-d82b-4f8c-aac5-e5c226480ce2",
   "metadata": {},
   "outputs": [],
   "source": [
    "with lzma.open(\"../data/X_train.xz\", \"rb\") as f:\n",
    "    X_train = pickle.load(f)\n",
    "with lzma.open(\"../data/X_test.xz\", \"rb\") as f:\n",
    "    X_test = pickle.load(f)\n",
    "y_train = pd.read_csv('../data/y_train.csv')\n",
    "y_test = pd.read_csv('../data/y_test.csv')"
   ]
  },
  {
   "cell_type": "code",
   "execution_count": 11,
   "id": "dbc7c62d-8dda-4f38-8f07-4d95ccd39096",
   "metadata": {},
   "outputs": [
    {
     "data": {
      "text/plain": [
       "((107897, 629), (35953, 629), (107897, 1), (35953, 1))"
      ]
     },
     "execution_count": 11,
     "metadata": {},
     "output_type": "execute_result"
    }
   ],
   "source": [
    "# check shapes\n",
    "X_train.shape,X_test.shape,y_train.shape,y_test.shape"
   ]
  },
  {
   "cell_type": "code",
   "execution_count": 12,
   "id": "06cc9bb2-124b-47a1-b885-7f627d22f7eb",
   "metadata": {},
   "outputs": [],
   "source": [
    "#  Reshape y_train and y_test\n",
    "y_train = y_train.squeeze()\n",
    "y_test = y_test.squeeze()"
   ]
  },
  {
   "cell_type": "code",
   "execution_count": 13,
   "id": "1ecaf0d3-646f-41c7-abd3-338b5de7192c",
   "metadata": {},
   "outputs": [
    {
     "data": {
      "text/plain": [
       "(0, 0)"
      ]
     },
     "execution_count": 13,
     "metadata": {},
     "output_type": "execute_result"
    }
   ],
   "source": [
    "#  Check again for nulls\n",
    "X_train.isnull().sum().sum(), X_test.isnull().sum().sum()"
   ]
  },
  {
   "cell_type": "code",
   "execution_count": 14,
   "id": "d4bb2e01-c94b-4610-b342-6b02b14a924d",
   "metadata": {},
   "outputs": [
    {
     "data": {
      "text/plain": [
       "2.441705718241977"
      ]
     },
     "execution_count": 14,
     "metadata": {},
     "output_type": "execute_result"
    }
   ],
   "source": [
    "#  Calculate baseline scores\n",
    "base = [np.mean(y_train)] * len(y_test)\n",
    "mean_squared_error(y_test, base, squared = False)"
   ]
  },
  {
   "cell_type": "code",
   "execution_count": 15,
   "id": "57b4d868-693d-42a4-a858-9a3ce081e83f",
   "metadata": {},
   "outputs": [
    {
     "data": {
      "text/plain": [
       "(1.8401975157055588, 1093009845167.0112)"
      ]
     },
     "execution_count": 15,
     "metadata": {},
     "output_type": "execute_result"
    }
   ],
   "source": [
    "#  Ultimately, we settled on using the framework of linear model, \n",
    "#  with l1 and l2 regularization provided through ElasticNet\n",
    "\n",
    "#  The size of the dataset (over 100k pitches in only 5 weeks of a regular season)\n",
    "#  made processing time and space unreasonable for many other models.\n",
    "\n",
    "#  We attempted:\n",
    "##    KNeighbors \n",
    "##    Decision Trees (faster, but too overfit)\n",
    "##    Random Forest (better performance, but too slow to tune hyperparameters in gridsearch)\n",
    "##    Neural networks (depths of 2-8 dense layers, widths of 32 - 1024)\n",
    "##         these generally performed worse than regularized linear models on this regression problem\n",
    "##         neural networks were more effective in several classification models we attempted before this model    \n",
    "lr = LinearRegression()\n",
    "lr.fit(X_train, y_train)\n",
    "mean_squared_error(y_train, lr.predict(X_train), squared = False), mean_squared_error(y_test, lr.predict(X_test), squared = False)"
   ]
  },
  {
   "cell_type": "code",
   "execution_count": 16,
   "id": "97e57992-5803-4603-8825-9fe6372d3a05",
   "metadata": {},
   "outputs": [
    {
     "data": {
      "text/plain": [
       "array([-6.59165884e+12,  1.44379972e+12,  1.18085394e+10, -1.58253814e+11,\n",
       "       -4.42764352e+11, -1.16784902e+12,  8.80368192e+11, -9.41624893e+11,\n",
       "       -1.54998313e+12, -2.45400068e+12, -3.03522997e+12,  2.88415159e+12,\n",
       "       -2.52502964e+11,  5.63978624e+11,  1.29905257e+11,  1.71581833e+11,\n",
       "        4.57349076e+11, -4.47527940e+11,  1.12343092e+12, -3.38497639e+12,\n",
       "        1.46408081e-02,  4.72640991e-03,  1.90937042e-01,  8.44993591e-02,\n",
       "        1.59721375e-01,  9.90066528e-02,  9.01031494e-03,  3.93371582e-02,\n",
       "        3.80625266e+11,  7.48065255e+09,  3.18460324e+11,  2.82319074e+10,\n",
       "        5.28481336e+10,  3.30967684e+11,  5.72669501e+11,  3.62486806e+10,\n",
       "        1.72945208e+11,  9.16180593e+09,  1.70796061e+11,  1.71389779e+10,\n",
       "        4.38871004e+11,  4.70650419e+11,  2.55365354e+11,  8.41055410e+10,\n",
       "       -2.71774336e+10, -7.64659969e+10, -7.21990998e+10, -5.75145470e+10,\n",
       "       -6.45891295e+10, -1.82897703e+11])"
      ]
     },
     "execution_count": 16,
     "metadata": {},
     "output_type": "execute_result"
    }
   ],
   "source": [
    "#  View first 50 coefs\n",
    "lr.coef_[0:50]"
   ]
  },
  {
   "cell_type": "code",
   "execution_count": 12,
   "id": "865c6c84-a5dd-483b-8b0a-a449d43b35fd",
   "metadata": {},
   "outputs": [
    {
     "name": "stderr",
     "output_type": "stream",
     "text": [
      "C:\\Users\\rob\\anaconda3\\lib\\site-packages\\sklearn\\linear_model\\_coordinate_descent.py:631: ConvergenceWarning: Objective did not converge. You might want to increase the number of iterations, check the scale of the features or consider increasing regularisation. Duality gap: 1.472e+05, tolerance: 6.430e+01\n",
      "  model = cd_fast.enet_coordinate_descent(\n",
      "C:\\Users\\rob\\anaconda3\\lib\\site-packages\\sklearn\\linear_model\\_coordinate_descent.py:631: ConvergenceWarning: Objective did not converge. You might want to increase the number of iterations, check the scale of the features or consider increasing regularisation. Duality gap: 3.575e+03, tolerance: 6.430e+01\n",
      "  model = cd_fast.enet_coordinate_descent(\n"
     ]
    }
   ],
   "source": [
    "##  Clearly, some regularization is needed -- the model is overfit, and some coefs are larger as 10^11.  \n",
    "\n",
    "##  The following process allows us to explore more combinations of alpha and l1_ratio \n",
    "##  than a gridsearch in light of data size and processing speed \n",
    "##  before multiplying attempts by 5 with cross_validation.  \n",
    "\n",
    "##  In other words, we want to see if our l1 and l2 regularization values are \"in the ballpark\"!\n",
    "\n",
    "scores = []\n",
    "for alpha in [0.01,0.1,1,2,5,10,100]:\n",
    "    for l1_ratio in [0.001,0.01,0.1,0.25,0.5,0.99]:\n",
    "        enet = ElasticNet(alpha = alpha,l1_ratio = l1_ratio)\n",
    "        enet.fit(X_train,y_train)\n",
    "        scores.append([enet.alpha,enet.l1_ratio,\\\n",
    "                 mean_squared_error(y_train, enet.predict(X_train), squared = False), \\\n",
    "                 mean_squared_error(y_test, enet.predict(X_test), squared = False)])"
   ]
  },
  {
   "cell_type": "code",
   "execution_count": 13,
   "id": "e7d5f162-df81-4180-ac32-9b963be81c55",
   "metadata": {},
   "outputs": [
    {
     "data": {
      "text/html": [
       "<div>\n",
       "<style scoped>\n",
       "    .dataframe tbody tr th:only-of-type {\n",
       "        vertical-align: middle;\n",
       "    }\n",
       "\n",
       "    .dataframe tbody tr th {\n",
       "        vertical-align: top;\n",
       "    }\n",
       "\n",
       "    .dataframe thead th {\n",
       "        text-align: right;\n",
       "    }\n",
       "</style>\n",
       "<table border=\"1\" class=\"dataframe\">\n",
       "  <thead>\n",
       "    <tr style=\"text-align: right;\">\n",
       "      <th></th>\n",
       "      <th>alpha</th>\n",
       "      <th>l1_ratio</th>\n",
       "      <th>train</th>\n",
       "      <th>test</th>\n",
       "    </tr>\n",
       "  </thead>\n",
       "  <tbody>\n",
       "    <tr>\n",
       "      <th>24</th>\n",
       "      <td>5.0</td>\n",
       "      <td>0.001</td>\n",
       "      <td>2.272948</td>\n",
       "      <td>2.354153</td>\n",
       "    </tr>\n",
       "    <tr>\n",
       "      <th>30</th>\n",
       "      <td>10.0</td>\n",
       "      <td>0.001</td>\n",
       "      <td>2.351145</td>\n",
       "      <td>2.374807</td>\n",
       "    </tr>\n",
       "    <tr>\n",
       "      <th>25</th>\n",
       "      <td>5.0</td>\n",
       "      <td>0.010</td>\n",
       "      <td>2.368184</td>\n",
       "      <td>2.402234</td>\n",
       "    </tr>\n",
       "    <tr>\n",
       "      <th>19</th>\n",
       "      <td>2.0</td>\n",
       "      <td>0.010</td>\n",
       "      <td>2.190790</td>\n",
       "      <td>2.408056</td>\n",
       "    </tr>\n",
       "    <tr>\n",
       "      <th>18</th>\n",
       "      <td>2.0</td>\n",
       "      <td>0.001</td>\n",
       "      <td>2.124221</td>\n",
       "      <td>2.418006</td>\n",
       "    </tr>\n",
       "  </tbody>\n",
       "</table>\n",
       "</div>"
      ],
      "text/plain": [
       "    alpha  l1_ratio     train      test\n",
       "24    5.0     0.001  2.272948  2.354153\n",
       "30   10.0     0.001  2.351145  2.374807\n",
       "25    5.0     0.010  2.368184  2.402234\n",
       "19    2.0     0.010  2.190790  2.408056\n",
       "18    2.0     0.001  2.124221  2.418006"
      ]
     },
     "execution_count": 13,
     "metadata": {},
     "output_type": "execute_result"
    }
   ],
   "source": [
    "#  Collect scores into df and view lowest mses\n",
    "df_scores = pd.DataFrame(scores, columns = ['alpha','l1_ratio','train','test'])\n",
    "df_scores.sort_values(by = 'test').head()"
   ]
  },
  {
   "cell_type": "code",
   "execution_count": 16,
   "id": "71fc6612-e035-42e6-82fa-024790c7d8d1",
   "metadata": {},
   "outputs": [],
   "source": [
    "#  Having seen the best scores from the last set, \n",
    "#  we \"zoom in\" on the region of values that had the best scores\n",
    "scores_2 = []\n",
    "for alpha in [3,4,5,6,8,10]:\n",
    "    for l1_ratio in [0.001,0.002,0.005,0.01,0.02]:\n",
    "        enet = ElasticNet(alpha = alpha,l1_ratio = l1_ratio)\n",
    "        enet.fit(X_train,y_train)\n",
    "        scores_2.append([enet.alpha,enet.l1_ratio,\\\n",
    "                 mean_squared_error(y_train, enet.predict(X_train), squared = False), \\\n",
    "                 mean_squared_error(y_test, enet.predict(X_test), squared = False)])"
   ]
  },
  {
   "cell_type": "code",
   "execution_count": 17,
   "id": "50681215-023e-4c50-872b-0ea20304fc57",
   "metadata": {},
   "outputs": [
    {
     "data": {
      "text/html": [
       "<div>\n",
       "<style scoped>\n",
       "    .dataframe tbody tr th:only-of-type {\n",
       "        vertical-align: middle;\n",
       "    }\n",
       "\n",
       "    .dataframe tbody tr th {\n",
       "        vertical-align: top;\n",
       "    }\n",
       "\n",
       "    .dataframe thead th {\n",
       "        text-align: right;\n",
       "    }\n",
       "</style>\n",
       "<table border=\"1\" class=\"dataframe\">\n",
       "  <thead>\n",
       "    <tr style=\"text-align: right;\">\n",
       "      <th></th>\n",
       "      <th>alpha</th>\n",
       "      <th>l1_ratio</th>\n",
       "      <th>train</th>\n",
       "      <th>test</th>\n",
       "    </tr>\n",
       "  </thead>\n",
       "  <tbody>\n",
       "    <tr>\n",
       "      <th>24</th>\n",
       "      <td>5.0</td>\n",
       "      <td>0.001</td>\n",
       "      <td>2.272948</td>\n",
       "      <td>2.354153</td>\n",
       "    </tr>\n",
       "    <tr>\n",
       "      <th>30</th>\n",
       "      <td>10.0</td>\n",
       "      <td>0.001</td>\n",
       "      <td>2.351145</td>\n",
       "      <td>2.374807</td>\n",
       "    </tr>\n",
       "    <tr>\n",
       "      <th>25</th>\n",
       "      <td>5.0</td>\n",
       "      <td>0.010</td>\n",
       "      <td>2.368184</td>\n",
       "      <td>2.402234</td>\n",
       "    </tr>\n",
       "    <tr>\n",
       "      <th>19</th>\n",
       "      <td>2.0</td>\n",
       "      <td>0.010</td>\n",
       "      <td>2.190790</td>\n",
       "      <td>2.408056</td>\n",
       "    </tr>\n",
       "    <tr>\n",
       "      <th>18</th>\n",
       "      <td>2.0</td>\n",
       "      <td>0.001</td>\n",
       "      <td>2.124221</td>\n",
       "      <td>2.418006</td>\n",
       "    </tr>\n",
       "  </tbody>\n",
       "</table>\n",
       "</div>"
      ],
      "text/plain": [
       "    alpha  l1_ratio     train      test\n",
       "24    5.0     0.001  2.272948  2.354153\n",
       "30   10.0     0.001  2.351145  2.374807\n",
       "25    5.0     0.010  2.368184  2.402234\n",
       "19    2.0     0.010  2.190790  2.408056\n",
       "18    2.0     0.001  2.124221  2.418006"
      ]
     },
     "execution_count": 17,
     "metadata": {},
     "output_type": "execute_result"
    }
   ],
   "source": [
    "df_scores_2 = pd.DataFrame(scores, columns = ['alpha','l1_ratio','train','test'])\n",
    "df_scores_2.sort_values(by = 'test').head()"
   ]
  },
  {
   "cell_type": "code",
   "execution_count": 17,
   "id": "9e456374-3784-4c6e-92e5-2d8f61212ed7",
   "metadata": {},
   "outputs": [
    {
     "data": {
      "text/html": [
       "<style>#sk-container-id-1 {color: black;background-color: white;}#sk-container-id-1 pre{padding: 0;}#sk-container-id-1 div.sk-toggleable {background-color: white;}#sk-container-id-1 label.sk-toggleable__label {cursor: pointer;display: block;width: 100%;margin-bottom: 0;padding: 0.3em;box-sizing: border-box;text-align: center;}#sk-container-id-1 label.sk-toggleable__label-arrow:before {content: \"▸\";float: left;margin-right: 0.25em;color: #696969;}#sk-container-id-1 label.sk-toggleable__label-arrow:hover:before {color: black;}#sk-container-id-1 div.sk-estimator:hover label.sk-toggleable__label-arrow:before {color: black;}#sk-container-id-1 div.sk-toggleable__content {max-height: 0;max-width: 0;overflow: hidden;text-align: left;background-color: #f0f8ff;}#sk-container-id-1 div.sk-toggleable__content pre {margin: 0.2em;color: black;border-radius: 0.25em;background-color: #f0f8ff;}#sk-container-id-1 input.sk-toggleable__control:checked~div.sk-toggleable__content {max-height: 200px;max-width: 100%;overflow: auto;}#sk-container-id-1 input.sk-toggleable__control:checked~label.sk-toggleable__label-arrow:before {content: \"▾\";}#sk-container-id-1 div.sk-estimator input.sk-toggleable__control:checked~label.sk-toggleable__label {background-color: #d4ebff;}#sk-container-id-1 div.sk-label input.sk-toggleable__control:checked~label.sk-toggleable__label {background-color: #d4ebff;}#sk-container-id-1 input.sk-hidden--visually {border: 0;clip: rect(1px 1px 1px 1px);clip: rect(1px, 1px, 1px, 1px);height: 1px;margin: -1px;overflow: hidden;padding: 0;position: absolute;width: 1px;}#sk-container-id-1 div.sk-estimator {font-family: monospace;background-color: #f0f8ff;border: 1px dotted black;border-radius: 0.25em;box-sizing: border-box;margin-bottom: 0.5em;}#sk-container-id-1 div.sk-estimator:hover {background-color: #d4ebff;}#sk-container-id-1 div.sk-parallel-item::after {content: \"\";width: 100%;border-bottom: 1px solid gray;flex-grow: 1;}#sk-container-id-1 div.sk-label:hover label.sk-toggleable__label {background-color: #d4ebff;}#sk-container-id-1 div.sk-serial::before {content: \"\";position: absolute;border-left: 1px solid gray;box-sizing: border-box;top: 0;bottom: 0;left: 50%;z-index: 0;}#sk-container-id-1 div.sk-serial {display: flex;flex-direction: column;align-items: center;background-color: white;padding-right: 0.2em;padding-left: 0.2em;position: relative;}#sk-container-id-1 div.sk-item {position: relative;z-index: 1;}#sk-container-id-1 div.sk-parallel {display: flex;align-items: stretch;justify-content: center;background-color: white;position: relative;}#sk-container-id-1 div.sk-item::before, #sk-container-id-1 div.sk-parallel-item::before {content: \"\";position: absolute;border-left: 1px solid gray;box-sizing: border-box;top: 0;bottom: 0;left: 50%;z-index: -1;}#sk-container-id-1 div.sk-parallel-item {display: flex;flex-direction: column;z-index: 1;position: relative;background-color: white;}#sk-container-id-1 div.sk-parallel-item:first-child::after {align-self: flex-end;width: 50%;}#sk-container-id-1 div.sk-parallel-item:last-child::after {align-self: flex-start;width: 50%;}#sk-container-id-1 div.sk-parallel-item:only-child::after {width: 0;}#sk-container-id-1 div.sk-dashed-wrapped {border: 1px dashed gray;margin: 0 0.4em 0.5em 0.4em;box-sizing: border-box;padding-bottom: 0.4em;background-color: white;}#sk-container-id-1 div.sk-label label {font-family: monospace;font-weight: bold;display: inline-block;line-height: 1.2em;}#sk-container-id-1 div.sk-label-container {text-align: center;}#sk-container-id-1 div.sk-container {/* jupyter's `normalize.less` sets `[hidden] { display: none; }` but bootstrap.min.css set `[hidden] { display: none !important; }` so we also need the `!important` here to be able to override the default hidden behavior on the sphinx rendered scikit-learn.org. See: https://github.com/scikit-learn/scikit-learn/issues/21755 */display: inline-block !important;position: relative;}#sk-container-id-1 div.sk-text-repr-fallback {display: none;}</style><div id=\"sk-container-id-1\" class=\"sk-top-container\"><div class=\"sk-text-repr-fallback\"><pre>ElasticNet(alpha=5, l1_ratio=0.001)</pre><b>In a Jupyter environment, please rerun this cell to show the HTML representation or trust the notebook. <br />On GitHub, the HTML representation is unable to render, please try loading this page with nbviewer.org.</b></div><div class=\"sk-container\" hidden><div class=\"sk-item\"><div class=\"sk-estimator sk-toggleable\"><input class=\"sk-toggleable__control sk-hidden--visually\" id=\"sk-estimator-id-1\" type=\"checkbox\" checked><label for=\"sk-estimator-id-1\" class=\"sk-toggleable__label sk-toggleable__label-arrow\">ElasticNet</label><div class=\"sk-toggleable__content\"><pre>ElasticNet(alpha=5, l1_ratio=0.001)</pre></div></div></div></div></div>"
      ],
      "text/plain": [
       "ElasticNet(alpha=5, l1_ratio=0.001)"
      ]
     },
     "execution_count": 17,
     "metadata": {},
     "output_type": "execute_result"
    }
   ],
   "source": [
    "#  These top 5 models at least marginally outperformed the baseline\n",
    "#  Train and fit best estimator\n",
    "enet = ElasticNet(alpha = 5, l1_ratio = 0.001)\n",
    "enet.fit(X_train,y_train)"
   ]
  },
  {
   "cell_type": "code",
   "execution_count": 19,
   "id": "6cb04e77-fed0-46b9-8506-397c2426ee56",
   "metadata": {},
   "outputs": [],
   "source": [
    "#  Reassemble X and y for cross-val scoring\n",
    "X = pd.concat([X_train,X_test], axis = 0)\n",
    "y = pd.concat([y_train,y_test], axis = 0)\n",
    "score = cross_val_score(enet, X, y, scoring = 'neg_mean_squared_error', cv = 5).mean()"
   ]
  },
  {
   "cell_type": "code",
   "execution_count": 20,
   "id": "f4ca907e-a567-4a22-bb9f-b6a7f3e80215",
   "metadata": {},
   "outputs": [
    {
     "data": {
      "text/plain": [
       "-5.234717482584827"
      ]
     },
     "execution_count": 20,
     "metadata": {},
     "output_type": "execute_result"
    }
   ],
   "source": [
    "score"
   ]
  },
  {
   "cell_type": "code",
   "execution_count": 21,
   "id": "19643f97-610d-4ddd-b8b4-a89429d6b794",
   "metadata": {},
   "outputs": [
    {
     "data": {
      "text/plain": [
       "2.2879504982811203"
      ]
     },
     "execution_count": 21,
     "metadata": {},
     "output_type": "execute_result"
    }
   ],
   "source": [
    "#  Score is negative squared error, multiply by -1 and take sqrt to get RMSE\n",
    "(score * -1 ) ** 0.5"
   ]
  },
  {
   "cell_type": "code",
   "execution_count": 22,
   "id": "290c6a05-6aa8-41f4-8fa9-5e39d1652e8c",
   "metadata": {},
   "outputs": [
    {
     "data": {
      "image/png": "[encoded data removed]",
      "text/plain": [
       "<Figure size 640x480 with 1 Axes>"
      ]
     },
     "metadata": {},
     "output_type": "display_data"
    }
   ],
   "source": [
    "#  Compare predictions with actual values (square both to undo sqrt transform)\n",
    "plt.scatter(y = (enet.predict(X_test)) ** 2, \n",
    "            x = (y_test) ** 2, \n",
    "            s = 1,\n",
    "            label = 'predictions')\n",
    "plt.plot([0,max(y_test) ** 2],[(np.mean(y_test)) ** 2,(np.mean(y_test)) ** 2], \n",
    "         linewidth = 3, linestyle = '-',color = 'orange',\n",
    "        label = 'baseline')\n",
    "plt.legend()\n",
    "plt.title('Model Performance - Predicted Pitch Numbers based on Mechanics')\n",
    "plt.ylabel('Predicted Pitch Number (int)')\n",
    "plt.xlabel('Actual Pitch Number (int)')\n",
    "plt.xlim(0,120)\n",
    "plt.ylim(0,120);"
   ]
  },
  {
   "cell_type": "markdown",
   "id": "fb0254a7-11ab-4a27-a07f-e23bd76f229f",
   "metadata": {},
   "source": [
    "Ultimately, this model performed only slightly better than the baseline.  Although the scoring improved with greater regularization, it appears that the model did not    With increased data, as well as the processing power and speed to train deep neural networks, this model can be improved significantly."
   ]
  },
  {
   "cell_type": "code",
   "execution_count": 20,
   "id": "d02b0c00-8178-42c1-9f1d-13f8816d88d7",
   "metadata": {},
   "outputs": [],
   "source": [
    "#  Save model to publish as app\n",
    "filename = '../app/model.pkl'\n",
    "pickle.dump(enet, open(filename, 'wb'))"
   ]
  },
  {
   "cell_type": "code",
   "execution_count": 19,
   "id": "3caa41da-fdc3-4b69-ac62-7ce288be3c3d",
   "metadata": {},
   "outputs": [],
   "source": []
  },
  {
   "cell_type": "code",
   "execution_count": null,
   "id": "5636e134-1603-4664-9994-e9326f8e1502",
   "metadata": {},
   "outputs": [],
   "source": []
  },
  {
   "cell_type": "code",
   "execution_count": null,
   "id": "0c34c387-b961-4c89-9d75-8dd74e66f0ea",
   "metadata": {},
   "outputs": [],
   "source": []
  },
  {
   "cell_type": "code",
   "execution_count": null,
   "id": "cac17d1c-963c-48f6-bd61-e7d89b626e32",
   "metadata": {},
   "outputs": [],
   "source": []
  },
  {
   "cell_type": "code",
   "execution_count": 11,
   "id": "d3be83a3-050f-46ca-b5c9-4bc4a55bff93",
   "metadata": {},
   "outputs": [],
   "source": []
  },
  {
   "cell_type": "code",
   "execution_count": 12,
   "id": "2258db48-0e43-4879-8998-6277765b8d9b",
   "metadata": {},
   "outputs": [],
   "source": []
  },
  {
   "cell_type": "code",
   "execution_count": null,
   "id": "506eda84-cd58-4980-9c4b-09fd9ef8afea",
   "metadata": {},
   "outputs": [],
   "source": []
  },
  {
   "cell_type": "code",
   "execution_count": null,
   "id": "62365d19-0748-497a-89e0-e1e255324ddc",
   "metadata": {},
   "outputs": [],
   "source": []
  },
  {
   "cell_type": "code",
   "execution_count": null,
   "id": "4823a2bb-6461-401c-95a4-71031c948f04",
   "metadata": {},
   "outputs": [],
   "source": []
  }
 ],
 "metadata": {
  "kernelspec": {
   "display_name": "Python 3 (ipykernel)",
   "language": "python",
   "name": "python3"
  },
  "language_info": {
   "codemirror_mode": {
    "name": "ipython",
    "version": 3
   },
   "file_extension": ".py",
   "mimetype": "text/x-python",
   "name": "python",
   "nbconvert_exporter": "python",
   "pygments_lexer": "ipython3",
   "version": "3.10.9"
  }
 },
 "nbformat": 4,
 "nbformat_minor": 5
}
