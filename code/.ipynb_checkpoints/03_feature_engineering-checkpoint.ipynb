{
 "cells": [
  {
   "cell_type": "code",
   "execution_count": 1,
   "id": "46b1e677-1fd1-4cfe-b632-9d24578aa66b",
   "metadata": {
    "tags": []
   },
   "outputs": [],
   "source": [
    "import pandas as pd\n",
    "import numpy as np\n",
    "import matplotlib.pyplot as plt\n",
    "import seaborn as sns\n",
    "sns.set()\n",
    "\n",
    "\n",
    "from sklearn.model_selection import train_test_split, cross_val_score, GridSearchCV, RandomizedSearchCV\n",
    "from sklearn.linear_model import LogisticRegression, LinearRegression\n",
    "from sklearn.neighbors import KNeighborsClassifier, KNeighborsRegressor\n",
    "from sklearn.tree import DecisionTreeClassifier, DecisionTreeRegressor\n",
    "from sklearn.ensemble import RandomForestClassifier, AdaBoostClassifier, BaggingClassifier, RandomForestRegressor\n",
    "from sklearn.svm import SVC\n",
    "\n",
    "from sklearn.pipeline import Pipeline, make_pipeline\n",
    "from sklearn.compose import ColumnTransformer\n",
    "from sklearn.preprocessing import StandardScaler, PolynomialFeatures, OneHotEncoder\n",
    "from sklearn.metrics import mean_squared_error, f1_score, confusion_matrix, roc_auc_score\n",
    "from sklearn.naive_bayes import GaussianNB, MultinomialNB, BernoulliNB\n",
    "\n",
    "from sklearn.linear_model import Lasso, ElasticNet, Ridge"
   ]
  },
  {
   "cell_type": "code",
   "execution_count": 2,
   "id": "64887b13-8ea7-4811-97ff-d3d3749d01c2",
   "metadata": {},
   "outputs": [],
   "source": [
    "from sklearn.decomposition import PCA"
   ]
  },
  {
   "cell_type": "code",
   "execution_count": 3,
   "id": "fbe0f4bb-50dd-4b6b-a481-0a07fbdb4b64",
   "metadata": {},
   "outputs": [],
   "source": [
    "from imblearn.over_sampling import ADASYN\n",
    "from imblearn.under_sampling import RandomUnderSampler"
   ]
  },
  {
   "cell_type": "code",
   "execution_count": 4,
   "id": "f09eade1-932e-4be9-820f-2236fdfdc649",
   "metadata": {},
   "outputs": [],
   "source": [
    "from tensorflow.keras.models import Sequential\n",
    "from tensorflow.keras.layers import Dense, Dropout\n",
    "from tensorflow.keras.utils import to_categorical\n",
    "from tensorflow.keras.metrics import Recall, Precision\n",
    "from tensorflow.keras.metrics import AUC"
   ]
  },
  {
   "cell_type": "code",
   "execution_count": 5,
   "id": "fdb868d6-6cec-46b7-a099-0bf34ecdd0f6",
   "metadata": {},
   "outputs": [],
   "source": [
    "from pybaseball import statcast_pitcher\n",
    "from pybaseball import playerid_lookup"
   ]
  },
  {
   "cell_type": "code",
   "execution_count": 6,
   "id": "70b4319e-264a-40a4-b257-1877c9d64354",
   "metadata": {},
   "outputs": [],
   "source": [
    "from pybaseball import statcast"
   ]
  },
  {
   "cell_type": "code",
   "execution_count": 7,
   "id": "c6a974be-7703-4c35-a88e-b9df6e1ffebb",
   "metadata": {},
   "outputs": [],
   "source": [
    "import lzma\n",
    "import pickle"
   ]
  },
  {
   "cell_type": "markdown",
   "id": "02b15978-f40b-417c-a617-625de0d896b2",
   "metadata": {
    "tags": []
   },
   "source": [
    "## preprocessing"
   ]
  },
  {
   "cell_type": "code",
   "execution_count": 23,
   "id": "811d0665-1fb6-4eec-9455-19d856899227",
   "metadata": {},
   "outputs": [],
   "source": [
    "with lzma.open(\"../data/pitches.xz\", \"rb\") as f:\n",
    "    pitches = pickle.load(f)"
   ]
  },
  {
   "cell_type": "code",
   "execution_count": 37,
   "id": "ea76bec3-cba0-469a-b153-b5c44632b87a",
   "metadata": {},
   "outputs": [
    {
     "data": {
      "text/html": [
       "<div>\n",
       "<style scoped>\n",
       "    .dataframe tbody tr th:only-of-type {\n",
       "        vertical-align: middle;\n",
       "    }\n",
       "\n",
       "    .dataframe tbody tr th {\n",
       "        vertical-align: top;\n",
       "    }\n",
       "\n",
       "    .dataframe thead th {\n",
       "        text-align: right;\n",
       "    }\n",
       "</style>\n",
       "<table border=\"1\" class=\"dataframe\">\n",
       "  <thead>\n",
       "    <tr style=\"text-align: right;\">\n",
       "      <th></th>\n",
       "      <th>vx0</th>\n",
       "      <th>vy0</th>\n",
       "      <th>vz0</th>\n",
       "      <th>release_speed</th>\n",
       "      <th>release_spin_rate</th>\n",
       "      <th>pfx_x</th>\n",
       "      <th>pfx_z</th>\n",
       "      <th>plate_x</th>\n",
       "      <th>plate_z</th>\n",
       "      <th>ax</th>\n",
       "      <th>...</th>\n",
       "      <th>release_pos_y</th>\n",
       "      <th>release_pos_z</th>\n",
       "      <th>vz0*2</th>\n",
       "      <th>pfx_z*2</th>\n",
       "      <th>plate_z*2</th>\n",
       "      <th>sz_top</th>\n",
       "      <th>sz_bot</th>\n",
       "      <th>pitch_type</th>\n",
       "      <th>player_name</th>\n",
       "      <th>pitch_no</th>\n",
       "    </tr>\n",
       "  </thead>\n",
       "  <tbody>\n",
       "    <tr>\n",
       "      <th>3295</th>\n",
       "      <td>4.974465</td>\n",
       "      <td>-120.970548</td>\n",
       "      <td>-1.590698</td>\n",
       "      <td>83.1</td>\n",
       "      <td>2275</td>\n",
       "      <td>0.57</td>\n",
       "      <td>-0.13</td>\n",
       "      <td>-0.19</td>\n",
       "      <td>2.35</td>\n",
       "      <td>4.535602</td>\n",
       "      <td>...</td>\n",
       "      <td>53.14</td>\n",
       "      <td>5.97</td>\n",
       "      <td>2.530321</td>\n",
       "      <td>0.0169</td>\n",
       "      <td>5.5225</td>\n",
       "      <td>3.21</td>\n",
       "      <td>1.52</td>\n",
       "      <td>SL</td>\n",
       "      <td>Romano, Jordan</td>\n",
       "      <td>1</td>\n",
       "    </tr>\n",
       "    <tr>\n",
       "      <th>3404</th>\n",
       "      <td>6.550197</td>\n",
       "      <td>-122.185723</td>\n",
       "      <td>-2.165955</td>\n",
       "      <td>84.0</td>\n",
       "      <td>2284</td>\n",
       "      <td>0.46</td>\n",
       "      <td>-0.13</td>\n",
       "      <td>0.13</td>\n",
       "      <td>1.99</td>\n",
       "      <td>3.33423</td>\n",
       "      <td>...</td>\n",
       "      <td>52.88</td>\n",
       "      <td>5.78</td>\n",
       "      <td>4.69136</td>\n",
       "      <td>0.0169</td>\n",
       "      <td>3.9601</td>\n",
       "      <td>3.08</td>\n",
       "      <td>1.52</td>\n",
       "      <td>SL</td>\n",
       "      <td>Romano, Jordan</td>\n",
       "      <td>2</td>\n",
       "    </tr>\n",
       "    <tr>\n",
       "      <th>3519</th>\n",
       "      <td>8.688477</td>\n",
       "      <td>-126.547267</td>\n",
       "      <td>-4.968054</td>\n",
       "      <td>87.1</td>\n",
       "      <td>2224</td>\n",
       "      <td>0.46</td>\n",
       "      <td>-0.26</td>\n",
       "      <td>0.95</td>\n",
       "      <td>1.07</td>\n",
       "      <td>3.120242</td>\n",
       "      <td>...</td>\n",
       "      <td>52.88</td>\n",
       "      <td>5.9</td>\n",
       "      <td>24.681557</td>\n",
       "      <td>0.0676</td>\n",
       "      <td>1.1449</td>\n",
       "      <td>3.16</td>\n",
       "      <td>1.52</td>\n",
       "      <td>SL</td>\n",
       "      <td>Romano, Jordan</td>\n",
       "      <td>3</td>\n",
       "    </tr>\n",
       "    <tr>\n",
       "      <th>3629</th>\n",
       "      <td>8.199169</td>\n",
       "      <td>-140.755107</td>\n",
       "      <td>-5.791813</td>\n",
       "      <td>96.9</td>\n",
       "      <td>2440</td>\n",
       "      <td>-0.01</td>\n",
       "      <td>1.61</td>\n",
       "      <td>0.17</td>\n",
       "      <td>3.2</td>\n",
       "      <td>-1.983056</td>\n",
       "      <td>...</td>\n",
       "      <td>52.91</td>\n",
       "      <td>6.02</td>\n",
       "      <td>33.545099</td>\n",
       "      <td>2.5921</td>\n",
       "      <td>10.24</td>\n",
       "      <td>3.45</td>\n",
       "      <td>1.58</td>\n",
       "      <td>FF</td>\n",
       "      <td>Romano, Jordan</td>\n",
       "      <td>4</td>\n",
       "    </tr>\n",
       "    <tr>\n",
       "      <th>3702</th>\n",
       "      <td>7.799187</td>\n",
       "      <td>-136.869501</td>\n",
       "      <td>-4.917298</td>\n",
       "      <td>94.2</td>\n",
       "      <td>2353</td>\n",
       "      <td>-0.22</td>\n",
       "      <td>1.55</td>\n",
       "      <td>-0.5</td>\n",
       "      <td>3.01</td>\n",
       "      <td>-4.529335</td>\n",
       "      <td>...</td>\n",
       "      <td>52.67</td>\n",
       "      <td>5.73</td>\n",
       "      <td>24.179823</td>\n",
       "      <td>2.4025</td>\n",
       "      <td>9.0601</td>\n",
       "      <td>3.45</td>\n",
       "      <td>1.58</td>\n",
       "      <td>FF</td>\n",
       "      <td>Romano, Jordan</td>\n",
       "      <td>5</td>\n",
       "    </tr>\n",
       "  </tbody>\n",
       "</table>\n",
       "<p>5 rows × 23 columns</p>\n",
       "</div>"
      ],
      "text/plain": [
       "           vx0         vy0       vz0  release_speed  release_spin_rate  pfx_x  \\\n",
       "3295  4.974465 -120.970548 -1.590698           83.1               2275   0.57   \n",
       "3404  6.550197 -122.185723 -2.165955           84.0               2284   0.46   \n",
       "3519  8.688477 -126.547267 -4.968054           87.1               2224   0.46   \n",
       "3629  8.199169 -140.755107 -5.791813           96.9               2440  -0.01   \n",
       "3702  7.799187 -136.869501 -4.917298           94.2               2353  -0.22   \n",
       "\n",
       "      pfx_z  plate_x  plate_z        ax  ...  release_pos_y  release_pos_z  \\\n",
       "3295  -0.13    -0.19     2.35  4.535602  ...          53.14           5.97   \n",
       "3404  -0.13     0.13     1.99   3.33423  ...          52.88           5.78   \n",
       "3519  -0.26     0.95     1.07  3.120242  ...          52.88            5.9   \n",
       "3629   1.61     0.17      3.2 -1.983056  ...          52.91           6.02   \n",
       "3702   1.55     -0.5     3.01 -4.529335  ...          52.67           5.73   \n",
       "\n",
       "          vz0*2  pfx_z*2  plate_z*2  sz_top  sz_bot  pitch_type  \\\n",
       "3295   2.530321   0.0169     5.5225    3.21    1.52          SL   \n",
       "3404    4.69136   0.0169     3.9601    3.08    1.52          SL   \n",
       "3519  24.681557   0.0676     1.1449    3.16    1.52          SL   \n",
       "3629  33.545099   2.5921      10.24    3.45    1.58          FF   \n",
       "3702  24.179823   2.4025     9.0601    3.45    1.58          FF   \n",
       "\n",
       "         player_name  pitch_no  \n",
       "3295  Romano, Jordan         1  \n",
       "3404  Romano, Jordan         2  \n",
       "3519  Romano, Jordan         3  \n",
       "3629  Romano, Jordan         4  \n",
       "3702  Romano, Jordan         5  \n",
       "\n",
       "[5 rows x 23 columns]"
      ]
     },
     "execution_count": 37,
     "metadata": {},
     "output_type": "execute_result"
    }
   ],
   "source": [
    "#  View data\n",
    "pitches.head()"
   ]
  },
  {
   "cell_type": "code",
   "execution_count": 38,
   "id": "815f0735-0ed8-4eea-bc10-fe17a992a815",
   "metadata": {},
   "outputs": [
    {
     "data": {
      "text/plain": [
       "Index(['vx0', 'vy0', 'vz0', 'release_speed', 'release_spin_rate', 'pfx_x',\n",
       "       'pfx_z', 'plate_x', 'plate_z', 'ax', 'ay', 'az', 'release_pos_x',\n",
       "       'release_pos_y', 'release_pos_z', 'vz0*2', 'pfx_z*2', 'plate_z*2',\n",
       "       'sz_top', 'sz_bot', 'pitch_type', 'player_name', 'pitch_no'],\n",
       "      dtype='object')"
      ]
     },
     "execution_count": 38,
     "metadata": {},
     "output_type": "execute_result"
    }
   ],
   "source": [
    "#  View columns\n",
    "pitches.columns"
   ]
  },
  {
   "cell_type": "code",
   "execution_count": 39,
   "id": "f12f378f-3ec9-4843-b445-57ad427d5073",
   "metadata": {},
   "outputs": [
    {
     "data": {
      "text/plain": [
       "0"
      ]
     },
     "execution_count": 39,
     "metadata": {},
     "output_type": "execute_result"
    }
   ],
   "source": [
    "#  Check again for nulls\n",
    "pitches.isnull().sum().sum()"
   ]
  },
  {
   "cell_type": "code",
   "execution_count": 29,
   "id": "c7af2029-fd74-4b5a-833f-96ffe8cc3816",
   "metadata": {},
   "outputs": [],
   "source": [
    "X = pitches.drop(columns = 'pitch_no')\n",
    "\n",
    "#  Square root transformation to normalize data \n",
    "## more effective at normalization than log-transform for this dataset\n",
    "y = pd.DataFrame([x ** 0.5 for x in pitches['pitch_no']])"
   ]
  },
  {
   "cell_type": "code",
   "execution_count": 30,
   "id": "2d3a81dc-b14b-46dc-bad9-e8a576e0d5a3",
   "metadata": {},
   "outputs": [],
   "source": [
    "#  Preserve dummified columns for later processing\n",
    "X['pitch_type_orig'] = X['pitch_type']\n",
    "X['player_name_orig'] = X['player_name']"
   ]
  },
  {
   "cell_type": "code",
   "execution_count": 31,
   "id": "333cd5b9-bcc3-449e-b651-fc7e697bf0ff",
   "metadata": {},
   "outputs": [],
   "source": [
    "#  Dummify pitch type and pitcher name (only categorical columns in remaining data)\n",
    "X = pd.get_dummies(X, columns = ['pitch_type','player_name'])"
   ]
  },
  {
   "cell_type": "code",
   "execution_count": 33,
   "id": "cf2894d7-4b93-4764-bcef-93db507bab81",
   "metadata": {},
   "outputs": [],
   "source": [
    "#  Train-test-split\n",
    "X_train, X_test, y_train, y_test = train_test_split(X, y, random_state=42)"
   ]
  },
  {
   "cell_type": "code",
   "execution_count": 40,
   "id": "ae0168c3-e14a-46f8-89f6-a687a92f2d6f",
   "metadata": {},
   "outputs": [],
   "source": [
    "#  Generating new features\n",
    "for col in pitches.columns[:-3]: \n",
    "    \n",
    "    # get avg metrics from train data by player and pitch type\n",
    "    X_train[f'{col}_avg'] = X_train.groupby(['player_name_orig','pitch_type_orig'])[col].transform('mean')\n",
    "    \n",
    "    # store averages in a variable\n",
    "    avgs = X_train.groupby(['player_name_orig', 'pitch_type_orig'])[col].mean().reset_index()\n",
    "    \n",
    "    # merge averages onto test data \n",
    "    merge = X_test.merge(avgs, on = ['player_name_orig','pitch_type_orig'], how = 'left')\n",
    "    X_test[f'{col}_avg'] = merge[col + '_y']\n",
    "    \n",
    "    # create new columns for differential from train avg in both train and test data\n",
    "    X_train[f'{col}_diff'] = X_train[col] - X_train[f'{col}_avg']\n",
    "    X_test[f'{col}_diff'] = X_test[col] - X_test[f'{col}_avg']    \n",
    "    "
   ]
  },
  {
   "cell_type": "code",
   "execution_count": 41,
   "id": "492fb1ef-0d68-4072-9265-25c1776b7a5e",
   "metadata": {},
   "outputs": [],
   "source": [
    "#  Drop categorical columns now that they have been dummified and used for grouped avgs\n",
    "X_train.drop(columns = ['player_name_orig', 'pitch_type_orig'], inplace = True)\n",
    "X_test.drop(columns = ['player_name_orig', 'pitch_type_orig'], inplace = True)"
   ]
  },
  {
   "cell_type": "code",
   "execution_count": 42,
   "id": "af4749c3-e3b6-4d9b-8b9c-bc1ca5e6a579",
   "metadata": {},
   "outputs": [
    {
     "data": {
      "text/plain": [
       "0"
      ]
     },
     "execution_count": 42,
     "metadata": {},
     "output_type": "execute_result"
    }
   ],
   "source": [
    "#  Check again for nulls\n",
    "X_train.isnull().sum().sum()"
   ]
  },
  {
   "cell_type": "code",
   "execution_count": 43,
   "id": "0bb22014-b2a0-4afd-9318-f4af7309e2bd",
   "metadata": {},
   "outputs": [
    {
     "data": {
      "text/plain": [
       "520"
      ]
     },
     "execution_count": 43,
     "metadata": {},
     "output_type": "execute_result"
    }
   ],
   "source": [
    "X_test.isnull().sum().sum()"
   ]
  },
  {
   "cell_type": "code",
   "execution_count": 44,
   "id": "b6a46b24-5418-43fc-9fb3-b49010fb0a40",
   "metadata": {},
   "outputs": [],
   "source": [
    "#  The merge above created nulls in X_test, but not in X_test\n",
    "#  Combine X_test and y_test to drop indices of nulls\n",
    "\n",
    "X_test = X_test.reset_index(drop = True)\n",
    "y_test = y_test.reset_index(drop = True)\n",
    "combined = pd.concat([X_test, y_test], axis = 1)\n",
    "combined.dropna(inplace = True)\n",
    "X_test = combined.iloc[:,:-1]\n",
    "y_test = combined.iloc[:,-1]"
   ]
  },
  {
   "cell_type": "code",
   "execution_count": null,
   "id": "c710c31b-24d3-45ea-a2eb-a08aafe0e835",
   "metadata": {},
   "outputs": [
    {
     "data": {
      "text/plain": [
       "((107897, 623), (35953, 623), (107897, 1), (35953,))"
      ]
     },
     "execution_count": 45,
     "metadata": {},
     "output_type": "execute_result"
    }
   ],
   "source": [
    "# Check shapes\n",
    "X_train.shape, X_test.shape, y_train.shape, y_test.shape"
   ]
  },
  {
   "cell_type": "code",
   "execution_count": 47,
   "id": "7c375a99-b2c2-4616-bdcd-923be683ffdf",
   "metadata": {},
   "outputs": [],
   "source": [
    "#  Reshape y_train \n",
    "y_train = y_train.squeeze()"
   ]
  },
  {
   "cell_type": "code",
   "execution_count": 48,
   "id": "37e4d5a8-ad9b-455b-9865-890809fd1f0b",
   "metadata": {},
   "outputs": [],
   "source": [
    "# Rescale and reshape as df\n",
    "ss = StandardScaler()\n",
    "X_train = ss.fit_transform(X_train)\n",
    "X_test = ss.transform(X_test)"
   ]
  },
  {
   "cell_type": "code",
   "execution_count": 49,
   "id": "82e2a08d-671f-4663-93d3-13c544a4d3aa",
   "metadata": {},
   "outputs": [],
   "source": [
    "X_train = pd.DataFrame(X_train, columns = ss.get_feature_names_out())\n",
    "X_test = pd.DataFrame(X_test, columns = ss.get_feature_names_out())"
   ]
  },
  {
   "cell_type": "code",
   "execution_count": 54,
   "id": "aac2e941-52f9-4f47-9649-7bf2faf8cf5a",
   "metadata": {},
   "outputs": [],
   "source": [
    "#  Compress large-width X dfs and save to data folder \n",
    "with lzma.open(\"../data/X_train.xz\", \"wb\") as f:\n",
    "    pickle.dump(X_train, f)\n",
    "with lzma.open(\"../data/X_test.xz\", \"wb\") as f:\n",
    "    pickle.dump(X_test, f)"
   ]
  },
  {
   "cell_type": "code",
   "execution_count": 55,
   "id": "09469694-ac18-4ff8-aed8-64da922ca2d0",
   "metadata": {},
   "outputs": [],
   "source": [
    "#  Write single-column y dfs to data folder as csv\n",
    "y_train.to_csv('../data/y_train.csv',index = False)\n",
    "y_test.to_csv('../data/y_test.csv', index = False)"
   ]
  },
  {
   "cell_type": "code",
   "execution_count": 56,
   "id": "f471d15c-e0b8-4437-879d-ceaa7030c11b",
   "metadata": {},
   "outputs": [],
   "source": [
    "# save scaler to app folder\n",
    "pickle.dump(ss, open('../app/scaler.pkl', 'wb'))"
   ]
  },
  {
   "cell_type": "code",
   "execution_count": null,
   "id": "6de16b48-502a-458a-a4c4-22e0d199b96d",
   "metadata": {},
   "outputs": [],
   "source": []
  },
  {
   "cell_type": "code",
   "execution_count": null,
   "id": "39990711-37e2-4af2-9a5d-850f1d0b6154",
   "metadata": {},
   "outputs": [],
   "source": []
  },
  {
   "cell_type": "code",
   "execution_count": null,
   "id": "3bd5acb8-c347-42a9-88b1-a7210ddc811b",
   "metadata": {},
   "outputs": [],
   "source": []
  },
  {
   "cell_type": "markdown",
   "id": "891a9dc6-a0d4-4bc0-a394-d43d894e011a",
   "metadata": {
    "tags": []
   },
   "source": [
    "## fatigue through game"
   ]
  },
  {
   "cell_type": "markdown",
   "id": "05d36cb1-53a1-449c-9251-e18623a54c97",
   "metadata": {
    "tags": []
   },
   "source": [
    "### fewer swinging strikes"
   ]
  },
  {
   "cell_type": "code",
   "execution_count": 39,
   "id": "5618215c-afe9-42cd-b09a-302e70032001",
   "metadata": {},
   "outputs": [],
   "source": [
    "X = ck[['pitch_type','release_speed','pfx_x','pfx_z',\n",
    "            'plate_x','plate_z','vx0','vy0','vz0',\n",
    "            'ax','ay','az','sz_top','sz_bot',\n",
    "            'release_spin_rate','release_extension','effective_speed','inning',\n",
    "        'release_pos_x','release_pos_y','release_pos_z','pitch_no','swing']]"
   ]
  },
  {
   "cell_type": "code",
   "execution_count": 40,
   "id": "55cb9745-37ac-48e9-81fa-9aeaa38f859e",
   "metadata": {},
   "outputs": [
    {
     "data": {
      "text/plain": [
       "pitch_type           181\n",
       "release_speed        176\n",
       "pfx_x                181\n",
       "pfx_z                181\n",
       "plate_x              181\n",
       "plate_z              181\n",
       "vx0                  181\n",
       "vy0                  181\n",
       "vz0                  181\n",
       "ax                   181\n",
       "ay                   181\n",
       "az                   181\n",
       "sz_top               181\n",
       "sz_bot               181\n",
       "release_spin_rate    929\n",
       "release_extension    345\n",
       "effective_speed      174\n",
       "inning                 0\n",
       "delta_run_exp          6\n",
       "release_pos_x        181\n",
       "release_pos_y        181\n",
       "release_pos_z        181\n",
       "pitch_no               0\n",
       "swing                  0\n",
       "dtype: int64"
      ]
     },
     "execution_count": 40,
     "metadata": {},
     "output_type": "execute_result"
    }
   ],
   "source": [
    "X.isnull().sum()"
   ]
  },
  {
   "cell_type": "code",
   "execution_count": 41,
   "id": "0314913f-73a0-4d03-ac96-46c56dde8db4",
   "metadata": {},
   "outputs": [
    {
     "name": "stderr",
     "output_type": "stream",
     "text": [
      "C:\\Users\\Finley & Stein\\AppData\\Local\\Temp\\ipykernel_17840\\25841689.py:1: SettingWithCopyWarning: \n",
      "A value is trying to be set on a copy of a slice from a DataFrame\n",
      "\n",
      "See the caveats in the documentation: https://pandas.pydata.org/pandas-docs/stable/user_guide/indexing.html#returning-a-view-versus-a-copy\n",
      "  X.dropna(inplace = True)\n"
     ]
    }
   ],
   "source": [
    "X.dropna(inplace = True)"
   ]
  },
  {
   "cell_type": "code",
   "execution_count": 42,
   "id": "dab03772-e74c-46c9-b4af-ac64a031377e",
   "metadata": {},
   "outputs": [],
   "source": [
    "X = pd.get_dummies(X, columns = ['pitch_type'])"
   ]
  },
  {
   "cell_type": "code",
   "execution_count": 43,
   "id": "85fa46c5-4d77-49d3-b1fc-839b6d5fc8c0",
   "metadata": {},
   "outputs": [],
   "source": [
    "y = X['swing']"
   ]
  },
  {
   "cell_type": "code",
   "execution_count": 44,
   "id": "32507397-60a4-46a5-836d-2fe94a847a9c",
   "metadata": {},
   "outputs": [],
   "source": [
    "X.drop(columns = 'swing', inplace = True)"
   ]
  },
  {
   "cell_type": "code",
   "execution_count": 45,
   "id": "3d30b506-5708-441b-9d7c-f2253ea7f2c2",
   "metadata": {},
   "outputs": [],
   "source": [
    "X_train, X_test, y_train, y_test = train_test_split(X, y,\n",
    "                                                    random_state=42)"
   ]
  },
  {
   "cell_type": "code",
   "execution_count": 46,
   "id": "3664bcf9-fca0-4c7c-8356-c83b857b9332",
   "metadata": {},
   "outputs": [],
   "source": [
    "ss = StandardScaler()\n",
    "X_train = ss.fit_transform(X_train)\n",
    "X_test = ss.transform(X_test)\n",
    "\n",
    "X_train = pd.DataFrame(X_train, columns = ss.get_feature_names_out())\n",
    "X_test = pd.DataFrame(X_test, columns = ss.get_feature_names_out())"
   ]
  },
  {
   "cell_type": "code",
   "execution_count": 49,
   "id": "a8007b67-1b86-41f1-9f07-fea43902366b",
   "metadata": {},
   "outputs": [],
   "source": [
    "poly = PolynomialFeatures()\n",
    "X_train = poly.fit_transform(X_train)\n",
    "X_test = poly.transform(X_test)\n",
    "\n",
    "X_train = pd.DataFrame(X_train, columns = poly.get_feature_names_out())\n",
    "X_test = pd.DataFrame(X_test, columns = poly.get_feature_names_out())"
   ]
  },
  {
   "cell_type": "code",
   "execution_count": 52,
   "id": "e7f54230-1f70-4b37-a0e8-b3cc1259a93c",
   "metadata": {},
   "outputs": [
    {
     "data": {
      "text/plain": [
       "0.5"
      ]
     },
     "execution_count": 52,
     "metadata": {},
     "output_type": "execute_result"
    }
   ],
   "source": [
    "base = [np.mean(y_train)] * len(y_test)\n",
    "roc_auc_score(y_test, base)"
   ]
  },
  {
   "cell_type": "code",
   "execution_count": 85,
   "id": "f583e550-8e3d-4648-935a-2c7ad7080681",
   "metadata": {},
   "outputs": [],
   "source": [
    "model = Sequential()\n",
    "model.add(Dense(128,activation = 'relu'))\n",
    "model.add(Dropout(0.2))\n",
    "model.add(Dense(32, activation = 'relu'))\n",
    "model.add(Dense(1,activation = 'sigmoid'))\n",
    "model.compile(loss='binary_crossentropy',optimizer='adam',metrics = ['AUC'])"
   ]
  },
  {
   "cell_type": "code",
   "execution_count": 86,
   "id": "bf85bd49-1468-4a3a-9bb0-db8d3d67b718",
   "metadata": {},
   "outputs": [
    {
     "name": "stdout",
     "output_type": "stream",
     "text": [
      "Epoch 1/10\n",
      "405/405 [==============================] - 2s 3ms/step - loss: 0.3546 - auc: 0.7252 - val_loss: 0.3070 - val_auc: 0.7948\n",
      "Epoch 2/10\n",
      "405/405 [==============================] - 1s 3ms/step - loss: 0.3103 - auc: 0.8040 - val_loss: 0.3043 - val_auc: 0.7990\n",
      "Epoch 3/10\n",
      "405/405 [==============================] - 1s 2ms/step - loss: 0.2936 - auc: 0.8325 - val_loss: 0.2948 - val_auc: 0.8200\n",
      "Epoch 4/10\n",
      "405/405 [==============================] - 1s 3ms/step - loss: 0.2822 - auc: 0.8492 - val_loss: 0.2895 - val_auc: 0.8323\n",
      "Epoch 5/10\n",
      "405/405 [==============================] - 1s 3ms/step - loss: 0.2692 - auc: 0.8644 - val_loss: 0.2838 - val_auc: 0.8408\n",
      "Epoch 6/10\n",
      "405/405 [==============================] - 1s 3ms/step - loss: 0.2617 - auc: 0.8740 - val_loss: 0.2812 - val_auc: 0.8437\n",
      "Epoch 7/10\n",
      "405/405 [==============================] - 1s 3ms/step - loss: 0.2514 - auc: 0.8865 - val_loss: 0.2820 - val_auc: 0.8446\n",
      "Epoch 8/10\n",
      "405/405 [==============================] - 1s 3ms/step - loss: 0.2439 - auc: 0.8957 - val_loss: 0.2818 - val_auc: 0.8450\n",
      "Epoch 9/10\n",
      "405/405 [==============================] - 1s 2ms/step - loss: 0.2372 - auc: 0.9015 - val_loss: 0.2834 - val_auc: 0.8476\n",
      "Epoch 10/10\n",
      "405/405 [==============================] - 1s 2ms/step - loss: 0.2302 - auc: 0.9096 - val_loss: 0.2874 - val_auc: 0.8434\n"
     ]
    },
    {
     "data": {
      "text/plain": [
       "<keras.callbacks.History at 0x230e5f637c0>"
      ]
     },
     "execution_count": 86,
     "metadata": {},
     "output_type": "execute_result"
    }
   ],
   "source": [
    "model.fit(X_train,y_train,validation_data=(X_test, y_test), epochs = 10, batch_size = 32)"
   ]
  },
  {
   "cell_type": "code",
   "execution_count": 87,
   "id": "dae18902-bc8f-458e-9cef-266c7dab1436",
   "metadata": {},
   "outputs": [
    {
     "name": "stdout",
     "output_type": "stream",
     "text": [
      "135/135 [==============================] - 0s 1ms/step\n"
     ]
    }
   ],
   "source": [
    "y_pred = model.predict(X_test)"
   ]
  },
  {
   "cell_type": "code",
   "execution_count": 88,
   "id": "552daa64-9813-4a23-849b-842b77f9fd3c",
   "metadata": {},
   "outputs": [
    {
     "data": {
      "text/plain": [
       "0.8447126978658592"
      ]
     },
     "execution_count": 88,
     "metadata": {},
     "output_type": "execute_result"
    }
   ],
   "source": [
    "roc_auc_score(y_test, y_pred)"
   ]
  },
  {
   "cell_type": "markdown",
   "id": "17365bff-a957-481e-86ff-f269b05b9bd2",
   "metadata": {
    "jp-MarkdownHeadingCollapsed": true,
    "tags": []
   },
   "source": [
    "### balls"
   ]
  },
  {
   "cell_type": "code",
   "execution_count": 248,
   "id": "df796c64-0db2-4b2c-b9da-bb06c02de01c",
   "metadata": {},
   "outputs": [],
   "source": [
    "ck['ball'] = ck['type'].apply(lambda x: 1 if x == 'B' else 0)"
   ]
  },
  {
   "cell_type": "code",
   "execution_count": 259,
   "id": "0482ff3d-3164-4d8d-8249-b5426b4f503c",
   "metadata": {},
   "outputs": [
    {
     "name": "stderr",
     "output_type": "stream",
     "text": [
      "C:\\Users\\Finley & Stein\\AppData\\Local\\Temp\\ipykernel_17840\\726466357.py:2: SettingWithCopyWarning: \n",
      "A value is trying to be set on a copy of a slice from a DataFrame\n",
      "\n",
      "See the caveats in the documentation: https://pandas.pydata.org/pandas-docs/stable/user_guide/indexing.html#returning-a-view-versus-a-copy\n",
      "  X.dropna(inplace = True)\n"
     ]
    }
   ],
   "source": [
    "X = ck[['pitch_type','release_speed','vx0','vy0','vz0',\n",
    "            'ax','ay','az','sz_top','sz_bot',\n",
    "            'release_spin_rate','release_extension','effective_speed','inning',\n",
    "            'release_pos_x','release_pos_y','release_pos_z','pitch_no','ball']]\n",
    "X.dropna(inplace = True)\n",
    "X = pd.get_dummies(X, columns = ['pitch_type'])\n",
    "y = X['ball']\n",
    "X = X.drop(columns = 'ball')"
   ]
  },
  {
   "cell_type": "code",
   "execution_count": 260,
   "id": "42f11704-9805-4234-9e0b-349796201bc9",
   "metadata": {},
   "outputs": [],
   "source": [
    "X_train, X_test, y_train, y_test = train_test_split(X, y,\n",
    "                                                    random_state=42)"
   ]
  },
  {
   "cell_type": "code",
   "execution_count": null,
   "id": "42792d8e-69c0-4f5e-8b99-0cc74357322a",
   "metadata": {},
   "outputs": [
    {
     "ename": "KeyError",
     "evalue": "'ball'",
     "output_type": "error",
     "traceback": [
      "\u001b[1;31m---------------------------------------------------------------------------\u001b[0m",
      "\u001b[1;31mKeyError\u001b[0m                                  Traceback (most recent call last)",
      "File \u001b[1;32mC:\\Anaconda\\lib\\site-packages\\pandas\\core\\indexes\\base.py:3629\u001b[0m, in \u001b[0;36mIndex.get_loc\u001b[1;34m(self, key, method, tolerance)\u001b[0m\n\u001b[0;32m   3628\u001b[0m \u001b[38;5;28;01mtry\u001b[39;00m:\n\u001b[1;32m-> 3629\u001b[0m     \u001b[38;5;28;01mreturn\u001b[39;00m \u001b[38;5;28;43mself\u001b[39;49m\u001b[38;5;241;43m.\u001b[39;49m\u001b[43m_engine\u001b[49m\u001b[38;5;241;43m.\u001b[39;49m\u001b[43mget_loc\u001b[49m\u001b[43m(\u001b[49m\u001b[43mcasted_key\u001b[49m\u001b[43m)\u001b[49m\n\u001b[0;32m   3630\u001b[0m \u001b[38;5;28;01mexcept\u001b[39;00m \u001b[38;5;167;01mKeyError\u001b[39;00m \u001b[38;5;28;01mas\u001b[39;00m err:\n",
      "File \u001b[1;32mC:\\Anaconda\\lib\\site-packages\\pandas\\_libs\\index.pyx:136\u001b[0m, in \u001b[0;36mpandas._libs.index.IndexEngine.get_loc\u001b[1;34m()\u001b[0m\n",
      "File \u001b[1;32mC:\\Anaconda\\lib\\site-packages\\pandas\\_libs\\index.pyx:163\u001b[0m, in \u001b[0;36mpandas._libs.index.IndexEngine.get_loc\u001b[1;34m()\u001b[0m\n",
      "File \u001b[1;32mpandas\\_libs\\hashtable_class_helper.pxi:5198\u001b[0m, in \u001b[0;36mpandas._libs.hashtable.PyObjectHashTable.get_item\u001b[1;34m()\u001b[0m\n",
      "File \u001b[1;32mpandas\\_libs\\hashtable_class_helper.pxi:5206\u001b[0m, in \u001b[0;36mpandas._libs.hashtable.PyObjectHashTable.get_item\u001b[1;34m()\u001b[0m\n",
      "\u001b[1;31mKeyError\u001b[0m: 'ball'",
      "\nThe above exception was the direct cause of the following exception:\n",
      "\u001b[1;31mKeyError\u001b[0m                                  Traceback (most recent call last)",
      "Cell \u001b[1;32mIn[269], line 1\u001b[0m\n\u001b[1;32m----> 1\u001b[0m \u001b[43mX_train\u001b[49m\u001b[43m[\u001b[49m\u001b[38;5;124;43m'\u001b[39;49m\u001b[38;5;124;43mball\u001b[39;49m\u001b[38;5;124;43m'\u001b[39;49m\u001b[43m]\u001b[49m\n",
      "File \u001b[1;32mC:\\Anaconda\\lib\\site-packages\\pandas\\core\\frame.py:3505\u001b[0m, in \u001b[0;36mDataFrame.__getitem__\u001b[1;34m(self, key)\u001b[0m\n\u001b[0;32m   3503\u001b[0m \u001b[38;5;28;01mif\u001b[39;00m \u001b[38;5;28mself\u001b[39m\u001b[38;5;241m.\u001b[39mcolumns\u001b[38;5;241m.\u001b[39mnlevels \u001b[38;5;241m>\u001b[39m \u001b[38;5;241m1\u001b[39m:\n\u001b[0;32m   3504\u001b[0m     \u001b[38;5;28;01mreturn\u001b[39;00m \u001b[38;5;28mself\u001b[39m\u001b[38;5;241m.\u001b[39m_getitem_multilevel(key)\n\u001b[1;32m-> 3505\u001b[0m indexer \u001b[38;5;241m=\u001b[39m \u001b[38;5;28;43mself\u001b[39;49m\u001b[38;5;241;43m.\u001b[39;49m\u001b[43mcolumns\u001b[49m\u001b[38;5;241;43m.\u001b[39;49m\u001b[43mget_loc\u001b[49m\u001b[43m(\u001b[49m\u001b[43mkey\u001b[49m\u001b[43m)\u001b[49m\n\u001b[0;32m   3506\u001b[0m \u001b[38;5;28;01mif\u001b[39;00m is_integer(indexer):\n\u001b[0;32m   3507\u001b[0m     indexer \u001b[38;5;241m=\u001b[39m [indexer]\n",
      "File \u001b[1;32mC:\\Anaconda\\lib\\site-packages\\pandas\\core\\indexes\\base.py:3631\u001b[0m, in \u001b[0;36mIndex.get_loc\u001b[1;34m(self, key, method, tolerance)\u001b[0m\n\u001b[0;32m   3629\u001b[0m     \u001b[38;5;28;01mreturn\u001b[39;00m \u001b[38;5;28mself\u001b[39m\u001b[38;5;241m.\u001b[39m_engine\u001b[38;5;241m.\u001b[39mget_loc(casted_key)\n\u001b[0;32m   3630\u001b[0m \u001b[38;5;28;01mexcept\u001b[39;00m \u001b[38;5;167;01mKeyError\u001b[39;00m \u001b[38;5;28;01mas\u001b[39;00m err:\n\u001b[1;32m-> 3631\u001b[0m     \u001b[38;5;28;01mraise\u001b[39;00m \u001b[38;5;167;01mKeyError\u001b[39;00m(key) \u001b[38;5;28;01mfrom\u001b[39;00m \u001b[38;5;21;01merr\u001b[39;00m\n\u001b[0;32m   3632\u001b[0m \u001b[38;5;28;01mexcept\u001b[39;00m \u001b[38;5;167;01mTypeError\u001b[39;00m:\n\u001b[0;32m   3633\u001b[0m     \u001b[38;5;66;03m# If we have a listlike key, _check_indexing_error will raise\u001b[39;00m\n\u001b[0;32m   3634\u001b[0m     \u001b[38;5;66;03m#  InvalidIndexError. Otherwise we fall through and re-raise\u001b[39;00m\n\u001b[0;32m   3635\u001b[0m     \u001b[38;5;66;03m#  the TypeError.\u001b[39;00m\n\u001b[0;32m   3636\u001b[0m     \u001b[38;5;28mself\u001b[39m\u001b[38;5;241m.\u001b[39m_check_indexing_error(key)\n",
      "\u001b[1;31mKeyError\u001b[0m: 'ball'"
     ]
    }
   ],
   "source": [
    "X_train['ball']"
   ]
  },
  {
   "cell_type": "code",
   "execution_count": 261,
   "id": "56049eb8-7dac-46ea-99dc-763da674b252",
   "metadata": {},
   "outputs": [],
   "source": [
    "ss = StandardScaler()\n",
    "X_train = ss.fit_transform(X_train)\n",
    "X_test = ss.transform(X_test)\n",
    "\n",
    "X_train = pd.DataFrame(X_train, columns = ss.get_feature_names_out())\n",
    "X_test = pd.DataFrame(X_test, columns = ss.get_feature_names_out())"
   ]
  },
  {
   "cell_type": "code",
   "execution_count": 262,
   "id": "ea2324b1-6d33-4eae-8066-1e21d88a49cc",
   "metadata": {},
   "outputs": [],
   "source": [
    "poly = PolynomialFeatures()\n",
    "X_train = poly.fit_transform(X_train)\n",
    "X_test = poly.transform(X_test)\n",
    "\n",
    "X_train = pd.DataFrame(X_train, columns = poly.get_feature_names_out())\n",
    "X_test = pd.DataFrame(X_test, columns = poly.get_feature_names_out())"
   ]
  },
  {
   "cell_type": "code",
   "execution_count": 263,
   "id": "0be4041a-fba4-4a77-8ccc-cc72c327f1ab",
   "metadata": {},
   "outputs": [
    {
     "data": {
      "text/plain": [
       "0.5"
      ]
     },
     "execution_count": 274,
     "metadata": {},
     "output_type": "execute_result"
    }
   ],
   "source": [
    "base = [np.mean(y_train)] * len(y_test)\n",
    "roc_auc_score(y_test, base)"
   ]
  },
  {
   "cell_type": "code",
   "execution_count": 264,
   "id": "5de34ee7-03c3-4e75-8ff1-cb377bcf34a2",
   "metadata": {},
   "outputs": [],
   "source": [
    "model = Sequential()\n",
    "model.add(Dense(128,activation = 'relu'))\n",
    "model.add(Dropout(0.2))\n",
    "model.add(Dense(32, activation = 'relu'))\n",
    "model.add(Dense(32, activation = 'relu'))\n",
    "model.add(Dense(32, activation = 'relu'))\n",
    "model.add(Dense(32, activation = 'relu'))\n",
    "model.add(Dense(32, activation = 'relu'))\n",
    "model.add(Dense(1,activation = 'linear'))\n",
    "model.compile(loss='mse',optimizer='adam')"
   ]
  },
  {
   "cell_type": "code",
   "execution_count": 265,
   "id": "55cee568-3679-4a6f-849b-12b569f6a4ab",
   "metadata": {},
   "outputs": [
    {
     "name": "stdout",
     "output_type": "stream",
     "text": [
      "Epoch 1/10\n",
      "423/423 [==============================] - 2s 2ms/step - loss: 1.9722 - val_loss: 4.2044\n",
      "Epoch 2/10\n",
      "423/423 [==============================] - 1s 2ms/step - loss: 2.4159 - val_loss: 0.2499\n",
      "Epoch 3/10\n",
      "423/423 [==============================] - 1s 2ms/step - loss: 0.3012 - val_loss: 0.2148\n",
      "Epoch 4/10\n",
      "423/423 [==============================] - 1s 2ms/step - loss: 3.3095 - val_loss: 0.2411\n",
      "Epoch 5/10\n",
      "423/423 [==============================] - 1s 2ms/step - loss: 0.5250 - val_loss: 0.2424\n",
      "Epoch 6/10\n",
      "423/423 [==============================] - 1s 2ms/step - loss: 12.7448 - val_loss: 0.2183\n",
      "Epoch 7/10\n",
      "423/423 [==============================] - 1s 2ms/step - loss: 0.2575 - val_loss: 0.8186\n",
      "Epoch 8/10\n",
      "423/423 [==============================] - 1s 2ms/step - loss: 0.6870 - val_loss: 0.2685\n",
      "Epoch 9/10\n",
      "423/423 [==============================] - 1s 2ms/step - loss: 9.5449 - val_loss: 0.2287\n",
      "Epoch 10/10\n",
      "423/423 [==============================] - 1s 2ms/step - loss: 0.4952 - val_loss: 0.2149\n"
     ]
    },
    {
     "data": {
      "text/plain": [
       "<keras.callbacks.History at 0x2308fdce880>"
      ]
     },
     "execution_count": 276,
     "metadata": {},
     "output_type": "execute_result"
    }
   ],
   "source": [
    "model.fit(X_train,y_train,validation_data=(X_test, y_test), epochs = 10, batch_size = 32)"
   ]
  },
  {
   "cell_type": "code",
   "execution_count": 266,
   "id": "d8260713-44ed-4a17-ac0e-4bd71d3aa9f3",
   "metadata": {},
   "outputs": [
    {
     "name": "stdout",
     "output_type": "stream",
     "text": [
      "141/141 [==============================] - 0s 979us/step\n"
     ]
    }
   ],
   "source": [
    "y_pred = model.predict(X_test)"
   ]
  },
  {
   "cell_type": "code",
   "execution_count": 267,
   "id": "0af40496-0c6c-4b98-ac9d-ef0a84a8499d",
   "metadata": {},
   "outputs": [
    {
     "data": {
      "text/plain": [
       "0.5440852051111157"
      ]
     },
     "execution_count": 278,
     "metadata": {},
     "output_type": "execute_result"
    }
   ],
   "source": [
    "roc_auc_score(y_test, y_pred)"
   ]
  },
  {
   "cell_type": "code",
   "execution_count": null,
   "id": "eda05070-2413-4a24-b3a6-b3b30c05394c",
   "metadata": {},
   "outputs": [],
   "source": []
  },
  {
   "cell_type": "markdown",
   "id": "e6eab761-74e7-4b60-9476-238a1f1b0dfc",
   "metadata": {},
   "source": [
    "### fewer called strikes"
   ]
  },
  {
   "cell_type": "code",
   "execution_count": null,
   "id": "2cba7e7e-9ec4-4d2a-a9a9-a4c3e8d6a776",
   "metadata": {},
   "outputs": [],
   "source": [
    "#  events, description, hit_location, bb_type, hit_distance_sc, delta_run_exp"
   ]
  },
  {
   "cell_type": "code",
   "execution_count": 203,
   "id": "302ee67e-3e03-4841-bb0c-2220dcdd8e12",
   "metadata": {},
   "outputs": [
    {
     "data": {
      "text/plain": [
       "field_out                    1986\n",
       "strikeout                    1407\n",
       "single                        641\n",
       "walk                          213\n",
       "double                        168\n",
       "home_run                      130\n",
       "grounded_into_double_play      82\n",
       "force_out                      74\n",
       "field_error                    40\n",
       "sac_bunt                       24\n",
       "hit_by_pitch                   18\n",
       "triple                         13\n",
       "sac_fly                        11\n",
       "fielders_choice                 8\n",
       "fielders_choice_out             7\n",
       "double_play                     6\n",
       "catcher_interf                  4\n",
       "strikeout_double_play           3\n",
       "caught_stealing_2b              3\n",
       "intent_walk                     2\n",
       "caught_stealing_home            1\n",
       "sac_bunt_double_play            1\n",
       "Name: events, dtype: int64"
      ]
     },
     "execution_count": 203,
     "metadata": {},
     "output_type": "execute_result"
    }
   ],
   "source": [
    "ck['events'].value_counts()"
   ]
  },
  {
   "cell_type": "code",
   "execution_count": null,
   "id": "c2951f7e-0280-4734-8a0d-7bb1d72a1e83",
   "metadata": {},
   "outputs": [],
   "source": []
  },
  {
   "cell_type": "code",
   "execution_count": 90,
   "id": "43332e9d-aeeb-4ad3-8f68-5516843874f9",
   "metadata": {},
   "outputs": [
    {
     "data": {
      "text/plain": [
       "Index(['pitch_type', 'game_date', 'release_speed', 'release_pos_x',\n",
       "       'release_pos_z', 'player_name', 'batter', 'pitcher', 'events',\n",
       "       'description', 'spin_dir', 'spin_rate_deprecated',\n",
       "       'break_angle_deprecated', 'break_length_deprecated', 'zone', 'des',\n",
       "       'game_type', 'stand', 'p_throws', 'home_team', 'away_team', 'type',\n",
       "       'hit_location', 'bb_type', 'balls', 'strikes', 'game_year', 'pfx_x',\n",
       "       'pfx_z', 'plate_x', 'plate_z', 'on_3b', 'on_2b', 'on_1b',\n",
       "       'outs_when_up', 'inning', 'inning_topbot', 'hc_x', 'hc_y',\n",
       "       'tfs_deprecated', 'tfs_zulu_deprecated', 'fielder_2', 'umpire', 'sv_id',\n",
       "       'vx0', 'vy0', 'vz0', 'ax', 'ay', 'az', 'sz_top', 'sz_bot',\n",
       "       'hit_distance_sc', 'launch_speed', 'launch_angle', 'effective_speed',\n",
       "       'release_spin_rate', 'release_extension', 'game_pk', 'pitcher.1',\n",
       "       'fielder_2.1', 'fielder_3', 'fielder_4', 'fielder_5', 'fielder_6',\n",
       "       'fielder_7', 'fielder_8', 'fielder_9', 'release_pos_y',\n",
       "       'estimated_ba_using_speedangle', 'estimated_woba_using_speedangle',\n",
       "       'woba_value', 'woba_denom', 'babip_value', 'iso_value',\n",
       "       'launch_speed_angle', 'at_bat_number', 'pitch_number', 'pitch_name',\n",
       "       'home_score', 'away_score', 'bat_score', 'fld_score', 'post_away_score',\n",
       "       'post_home_score', 'post_bat_score', 'post_fld_score',\n",
       "       'if_fielding_alignment', 'of_fielding_alignment', 'spin_axis',\n",
       "       'delta_home_win_exp', 'delta_run_exp', 'reliever', 'special', 'swing',\n",
       "       'pitch_no'],\n",
       "      dtype='object')"
      ]
     },
     "execution_count": 90,
     "metadata": {},
     "output_type": "execute_result"
    }
   ],
   "source": [
    "ck.columns"
   ]
  },
  {
   "cell_type": "markdown",
   "id": "0ac19701-28c5-4a11-b1e0-00da46efe0fb",
   "metadata": {},
   "source": [
    "### delta run exp"
   ]
  },
  {
   "cell_type": "code",
   "execution_count": 168,
   "id": "5ddc5464-2ce4-48ed-bcfb-f8220f5771cd",
   "metadata": {},
   "outputs": [],
   "source": [
    "X = ck[['pitch_type','release_speed','pfx_x','pfx_z',\n",
    "            'plate_x','plate_z','vx0','vy0','vz0',\n",
    "            'ax','ay','az','sz_top','sz_bot',\n",
    "            'release_spin_rate','release_extension','effective_speed','inning',\n",
    "            'release_pos_x','release_pos_y','release_pos_z','pitch_no','delta_run_exp']]"
   ]
  },
  {
   "cell_type": "code",
   "execution_count": 169,
   "id": "7583956f-a0d3-456f-999f-49180ef627e1",
   "metadata": {},
   "outputs": [
    {
     "name": "stderr",
     "output_type": "stream",
     "text": [
      "C:\\Users\\Finley & Stein\\AppData\\Local\\Temp\\ipykernel_17840\\25841689.py:1: SettingWithCopyWarning: \n",
      "A value is trying to be set on a copy of a slice from a DataFrame\n",
      "\n",
      "See the caveats in the documentation: https://pandas.pydata.org/pandas-docs/stable/user_guide/indexing.html#returning-a-view-versus-a-copy\n",
      "  X.dropna(inplace = True)\n"
     ]
    }
   ],
   "source": [
    "X.dropna(inplace = True)"
   ]
  },
  {
   "cell_type": "code",
   "execution_count": 170,
   "id": "3d50d646-0401-412b-93f4-040f76d76a2a",
   "metadata": {},
   "outputs": [],
   "source": [
    "y = X['delta_run_exp']"
   ]
  },
  {
   "cell_type": "code",
   "execution_count": 171,
   "id": "094c44e7-70ee-47a7-bff3-3d5d7356648f",
   "metadata": {},
   "outputs": [],
   "source": [
    "X = X.drop(columns = 'delta_run_exp')"
   ]
  },
  {
   "cell_type": "code",
   "execution_count": 172,
   "id": "8e4ebe00-4557-4f4b-948c-f18780b7082a",
   "metadata": {},
   "outputs": [],
   "source": [
    "X = pd.get_dummies(X, columns = ['pitch_type'])"
   ]
  },
  {
   "cell_type": "code",
   "execution_count": 173,
   "id": "13e2ecf5-dca3-433a-949b-dae2aee1619b",
   "metadata": {},
   "outputs": [],
   "source": [
    "X_train, X_test, y_train, y_test = train_test_split(X, y,\n",
    "                                                    random_state=42)"
   ]
  },
  {
   "cell_type": "code",
   "execution_count": 174,
   "id": "38470bb9-3bba-4a1b-8f78-4186e6528db8",
   "metadata": {},
   "outputs": [],
   "source": [
    "ss = StandardScaler()\n",
    "X_train = ss.fit_transform(X_train)\n",
    "X_test = ss.transform(X_test)\n",
    "\n",
    "X_train = pd.DataFrame(X_train, columns = ss.get_feature_names_out())\n",
    "X_test = pd.DataFrame(X_test, columns = ss.get_feature_names_out())"
   ]
  },
  {
   "cell_type": "code",
   "execution_count": 175,
   "id": "3acc4624-a0fa-4b30-9c78-833e3cf2050d",
   "metadata": {},
   "outputs": [],
   "source": [
    "poly = PolynomialFeatures()\n",
    "X_train = poly.fit_transform(X_train)\n",
    "X_test = poly.transform(X_test)\n",
    "\n",
    "X_train = pd.DataFrame(X_train, columns = poly.get_feature_names_out())\n",
    "X_test = pd.DataFrame(X_test, columns = poly.get_feature_names_out())"
   ]
  },
  {
   "cell_type": "code",
   "execution_count": 176,
   "id": "8b419431-a9a1-40b0-b738-38702e987d6f",
   "metadata": {},
   "outputs": [
    {
     "data": {
      "text/plain": [
       "0.2118249216952286"
      ]
     },
     "execution_count": 176,
     "metadata": {},
     "output_type": "execute_result"
    }
   ],
   "source": [
    "base = [np.mean(y_train)] * len(y_test)\n",
    "mean_squared_error(y_test, base, squared=False)"
   ]
  },
  {
   "cell_type": "code",
   "execution_count": null,
   "id": "63f1a84e-e97d-433b-ba31-cc4190319ea5",
   "metadata": {},
   "outputs": [],
   "source": []
  },
  {
   "cell_type": "code",
   "execution_count": 177,
   "id": "09fb1279-c0b7-4e70-a6a4-4a95db6308b2",
   "metadata": {},
   "outputs": [],
   "source": [
    "model = Sequential()\n",
    "model.add(Dense(128,activation = 'relu'))\n",
    "model.add(Dropout(0.2))\n",
    "model.add(Dense(32, activation = 'relu'))\n",
    "model.add(Dense(32, activation = 'relu'))\n",
    "model.add(Dense(32, activation = 'relu'))\n",
    "model.add(Dense(32, activation = 'relu'))\n",
    "model.add(Dense(32, activation = 'relu'))\n",
    "model.add(Dense(32, activation = 'relu'))\n",
    "model.add(Dense(32, activation = 'relu'))\n",
    "model.add(Dense(1,activation = 'linear'))\n",
    "model.compile(loss='mse',optimizer='adam')"
   ]
  },
  {
   "cell_type": "code",
   "execution_count": 178,
   "id": "54c2aace-a9c1-407b-8252-90cc9899cdf2",
   "metadata": {},
   "outputs": [
    {
     "name": "stdout",
     "output_type": "stream",
     "text": [
      "Epoch 1/10\n",
      "188/188 [==============================] - 2s 3ms/step - loss: 0.0450 - val_loss: 0.0447\n",
      "Epoch 2/10\n",
      "188/188 [==============================] - 0s 3ms/step - loss: 0.0416 - val_loss: 0.0449\n",
      "Epoch 3/10\n",
      "188/188 [==============================] - 0s 3ms/step - loss: 0.0415 - val_loss: 0.0451\n",
      "Epoch 4/10\n",
      "188/188 [==============================] - 0s 3ms/step - loss: 0.0410 - val_loss: 0.0458\n",
      "Epoch 5/10\n",
      "188/188 [==============================] - 0s 3ms/step - loss: 0.0410 - val_loss: 0.0461\n",
      "Epoch 6/10\n",
      "188/188 [==============================] - 0s 3ms/step - loss: 0.0404 - val_loss: 0.0448\n",
      "Epoch 7/10\n",
      "188/188 [==============================] - 0s 3ms/step - loss: 0.0398 - val_loss: 0.0450\n",
      "Epoch 8/10\n",
      "188/188 [==============================] - 0s 3ms/step - loss: 0.0393 - val_loss: 0.0450\n",
      "Epoch 9/10\n",
      "188/188 [==============================] - 0s 3ms/step - loss: 0.0391 - val_loss: 0.0461\n",
      "Epoch 10/10\n",
      "188/188 [==============================] - 0s 3ms/step - loss: 0.0381 - val_loss: 0.0457\n"
     ]
    },
    {
     "data": {
      "text/plain": [
       "<keras.callbacks.History at 0x230eef3f400>"
      ]
     },
     "execution_count": 178,
     "metadata": {},
     "output_type": "execute_result"
    }
   ],
   "source": [
    "model.fit(X_train,y_train,validation_data=(X_test, y_test), epochs = 10, batch_size = 32)"
   ]
  },
  {
   "cell_type": "code",
   "execution_count": 179,
   "id": "e60afce4-e0fa-41a8-953b-a3dc10841d7f",
   "metadata": {},
   "outputs": [
    {
     "name": "stdout",
     "output_type": "stream",
     "text": [
      "63/63 [==============================] - 0s 1ms/step\n"
     ]
    }
   ],
   "source": [
    "y_pred = model.predict(X_test)"
   ]
  },
  {
   "cell_type": "code",
   "execution_count": 180,
   "id": "7dd35bc3-542f-4ac4-b279-c6d40ecbab7e",
   "metadata": {},
   "outputs": [
    {
     "data": {
      "text/plain": [
       "0.21379986599690892"
      ]
     },
     "execution_count": 180,
     "metadata": {},
     "output_type": "execute_result"
    }
   ],
   "source": [
    "mean_squared_error(y_test, y_pred, squared=False)"
   ]
  },
  {
   "cell_type": "markdown",
   "id": "1110558a-e172-47c2-8f56-6d71729ff5a3",
   "metadata": {},
   "source": [
    "## mechanics"
   ]
  },
  {
   "cell_type": "markdown",
   "id": "551ecfd4-a912-42fa-bb94-e5ea355c3acb",
   "metadata": {},
   "source": [
    "#### fastball velocity"
   ]
  },
  {
   "cell_type": "code",
   "execution_count": 191,
   "id": "06bc9b5a-73dc-4053-b332-84d6eeb27767",
   "metadata": {},
   "outputs": [],
   "source": [
    "ck = ck[ck['pitch_type'] == 'FF']"
   ]
  },
  {
   "cell_type": "code",
   "execution_count": 192,
   "id": "e994262a-edd1-4c06-bc78-bfd326324aa0",
   "metadata": {},
   "outputs": [
    {
     "name": "stderr",
     "output_type": "stream",
     "text": [
      "C:\\Users\\Finley & Stein\\AppData\\Local\\Temp\\ipykernel_17840\\3392740547.py:6: SettingWithCopyWarning: \n",
      "A value is trying to be set on a copy of a slice from a DataFrame\n",
      "\n",
      "See the caveats in the documentation: https://pandas.pydata.org/pandas-docs/stable/user_guide/indexing.html#returning-a-view-versus-a-copy\n",
      "  X.dropna(inplace = True)\n"
     ]
    },
    {
     "data": {
      "text/html": [
       "<div>\n",
       "<style scoped>\n",
       "    .dataframe tbody tr th:only-of-type {\n",
       "        vertical-align: middle;\n",
       "    }\n",
       "\n",
       "    .dataframe tbody tr th {\n",
       "        vertical-align: top;\n",
       "    }\n",
       "\n",
       "    .dataframe thead th {\n",
       "        text-align: right;\n",
       "    }\n",
       "</style>\n",
       "<table border=\"1\" class=\"dataframe\">\n",
       "  <thead>\n",
       "    <tr style=\"text-align: right;\">\n",
       "      <th></th>\n",
       "      <th>pfx_x</th>\n",
       "      <th>pfx_z</th>\n",
       "      <th>plate_x</th>\n",
       "      <th>plate_z</th>\n",
       "      <th>vx0</th>\n",
       "      <th>vy0</th>\n",
       "      <th>vz0</th>\n",
       "      <th>ax</th>\n",
       "      <th>ay</th>\n",
       "      <th>az</th>\n",
       "      <th>sz_top</th>\n",
       "      <th>sz_bot</th>\n",
       "      <th>release_spin_rate</th>\n",
       "      <th>release_extension</th>\n",
       "      <th>effective_speed</th>\n",
       "      <th>inning</th>\n",
       "      <th>release_pos_x</th>\n",
       "      <th>release_pos_y</th>\n",
       "      <th>release_pos_z</th>\n",
       "      <th>pitch_no</th>\n",
       "    </tr>\n",
       "  </thead>\n",
       "  <tbody>\n",
       "    <tr>\n",
       "      <th>1</th>\n",
       "      <td>-0.22</td>\n",
       "      <td>1.65</td>\n",
       "      <td>-0.97</td>\n",
       "      <td>2.82</td>\n",
       "      <td>-4.795000</td>\n",
       "      <td>-137.464000</td>\n",
       "      <td>-7.076000</td>\n",
       "      <td>-1.522000</td>\n",
       "      <td>34.627000</td>\n",
       "      <td>-10.191000</td>\n",
       "      <td>3.61</td>\n",
       "      <td>1.57</td>\n",
       "      <td>2377.0</td>\n",
       "      <td>6.5</td>\n",
       "      <td>94.0</td>\n",
       "      <td>5</td>\n",
       "      <td>0.92</td>\n",
       "      <td>50.00</td>\n",
       "      <td>6.14</td>\n",
       "      <td>2</td>\n",
       "    </tr>\n",
       "    <tr>\n",
       "      <th>4</th>\n",
       "      <td>-0.03</td>\n",
       "      <td>1.74</td>\n",
       "      <td>-1.78</td>\n",
       "      <td>1.84</td>\n",
       "      <td>-7.810000</td>\n",
       "      <td>-135.858000</td>\n",
       "      <td>-9.625000</td>\n",
       "      <td>1.261000</td>\n",
       "      <td>27.852000</td>\n",
       "      <td>-9.069000</td>\n",
       "      <td>3.42</td>\n",
       "      <td>1.51</td>\n",
       "      <td>2391.0</td>\n",
       "      <td>6.6</td>\n",
       "      <td>93.6</td>\n",
       "      <td>5</td>\n",
       "      <td>1.04</td>\n",
       "      <td>50.00</td>\n",
       "      <td>6.04</td>\n",
       "      <td>5</td>\n",
       "    </tr>\n",
       "    <tr>\n",
       "      <th>5</th>\n",
       "      <td>-0.66</td>\n",
       "      <td>1.58</td>\n",
       "      <td>-0.12</td>\n",
       "      <td>2.36</td>\n",
       "      <td>-1.940000</td>\n",
       "      <td>-137.062000</td>\n",
       "      <td>-7.767000</td>\n",
       "      <td>-7.657000</td>\n",
       "      <td>34.975000</td>\n",
       "      <td>-10.969000</td>\n",
       "      <td>3.42</td>\n",
       "      <td>1.47</td>\n",
       "      <td>2315.0</td>\n",
       "      <td>6.5</td>\n",
       "      <td>93.8</td>\n",
       "      <td>5</td>\n",
       "      <td>1.14</td>\n",
       "      <td>50.00</td>\n",
       "      <td>6.01</td>\n",
       "      <td>6</td>\n",
       "    </tr>\n",
       "    <tr>\n",
       "      <th>7</th>\n",
       "      <td>0.49</td>\n",
       "      <td>1.90</td>\n",
       "      <td>0.96</td>\n",
       "      <td>1.32</td>\n",
       "      <td>-2.652000</td>\n",
       "      <td>-137.073000</td>\n",
       "      <td>-11.628000</td>\n",
       "      <td>6.630000</td>\n",
       "      <td>29.854000</td>\n",
       "      <td>-6.227000</td>\n",
       "      <td>3.75</td>\n",
       "      <td>1.64</td>\n",
       "      <td>2338.0</td>\n",
       "      <td>6.6</td>\n",
       "      <td>94.5</td>\n",
       "      <td>5</td>\n",
       "      <td>1.48</td>\n",
       "      <td>50.00</td>\n",
       "      <td>6.04</td>\n",
       "      <td>8</td>\n",
       "    </tr>\n",
       "    <tr>\n",
       "      <th>8</th>\n",
       "      <td>0.18</td>\n",
       "      <td>1.72</td>\n",
       "      <td>-0.46</td>\n",
       "      <td>3.21</td>\n",
       "      <td>-4.678000</td>\n",
       "      <td>-137.196000</td>\n",
       "      <td>-6.301000</td>\n",
       "      <td>3.275000</td>\n",
       "      <td>30.735000</td>\n",
       "      <td>-9.518000</td>\n",
       "      <td>3.66</td>\n",
       "      <td>1.54</td>\n",
       "      <td>2253.0</td>\n",
       "      <td>6.7</td>\n",
       "      <td>94.7</td>\n",
       "      <td>5</td>\n",
       "      <td>1.04</td>\n",
       "      <td>50.00</td>\n",
       "      <td>6.19</td>\n",
       "      <td>9</td>\n",
       "    </tr>\n",
       "    <tr>\n",
       "      <th>...</th>\n",
       "      <td>...</td>\n",
       "      <td>...</td>\n",
       "      <td>...</td>\n",
       "      <td>...</td>\n",
       "      <td>...</td>\n",
       "      <td>...</td>\n",
       "      <td>...</td>\n",
       "      <td>...</td>\n",
       "      <td>...</td>\n",
       "      <td>...</td>\n",
       "      <td>...</td>\n",
       "      <td>...</td>\n",
       "      <td>...</td>\n",
       "      <td>...</td>\n",
       "      <td>...</td>\n",
       "      <td>...</td>\n",
       "      <td>...</td>\n",
       "      <td>...</td>\n",
       "      <td>...</td>\n",
       "      <td>...</td>\n",
       "    </tr>\n",
       "    <tr>\n",
       "      <th>18184</th>\n",
       "      <td>-0.40</td>\n",
       "      <td>1.57</td>\n",
       "      <td>-0.33</td>\n",
       "      <td>2.52</td>\n",
       "      <td>-3.524664</td>\n",
       "      <td>-131.515107</td>\n",
       "      <td>-6.378435</td>\n",
       "      <td>-3.980430</td>\n",
       "      <td>26.766435</td>\n",
       "      <td>-12.799638</td>\n",
       "      <td>3.50</td>\n",
       "      <td>1.65</td>\n",
       "      <td>2342.0</td>\n",
       "      <td>6.4</td>\n",
       "      <td>90.7</td>\n",
       "      <td>2</td>\n",
       "      <td>1.43</td>\n",
       "      <td>54.11</td>\n",
       "      <td>6.11</td>\n",
       "      <td>88</td>\n",
       "    </tr>\n",
       "    <tr>\n",
       "      <th>18185</th>\n",
       "      <td>-0.37</td>\n",
       "      <td>1.51</td>\n",
       "      <td>0.82</td>\n",
       "      <td>4.29</td>\n",
       "      <td>-0.832675</td>\n",
       "      <td>-132.912806</td>\n",
       "      <td>-2.271370</td>\n",
       "      <td>-4.220362</td>\n",
       "      <td>27.587624</td>\n",
       "      <td>-14.005365</td>\n",
       "      <td>3.53</td>\n",
       "      <td>1.68</td>\n",
       "      <td>2365.0</td>\n",
       "      <td>6.5</td>\n",
       "      <td>91.8</td>\n",
       "      <td>2</td>\n",
       "      <td>1.46</td>\n",
       "      <td>54.02</td>\n",
       "      <td>6.23</td>\n",
       "      <td>89</td>\n",
       "    </tr>\n",
       "    <tr>\n",
       "      <th>18187</th>\n",
       "      <td>-0.10</td>\n",
       "      <td>1.71</td>\n",
       "      <td>0.84</td>\n",
       "      <td>3.56</td>\n",
       "      <td>-1.568255</td>\n",
       "      <td>-132.391093</td>\n",
       "      <td>-4.116400</td>\n",
       "      <td>-0.745037</td>\n",
       "      <td>33.478473</td>\n",
       "      <td>-11.592067</td>\n",
       "      <td>3.50</td>\n",
       "      <td>1.69</td>\n",
       "      <td>2322.0</td>\n",
       "      <td>6.5</td>\n",
       "      <td>90.6</td>\n",
       "      <td>2</td>\n",
       "      <td>1.55</td>\n",
       "      <td>54.02</td>\n",
       "      <td>6.13</td>\n",
       "      <td>91</td>\n",
       "    </tr>\n",
       "    <tr>\n",
       "      <th>18189</th>\n",
       "      <td>0.00</td>\n",
       "      <td>1.80</td>\n",
       "      <td>1.97</td>\n",
       "      <td>3.64</td>\n",
       "      <td>0.730560</td>\n",
       "      <td>-132.765704</td>\n",
       "      <td>-4.148554</td>\n",
       "      <td>-0.161907</td>\n",
       "      <td>32.548116</td>\n",
       "      <td>-10.343355</td>\n",
       "      <td>3.73</td>\n",
       "      <td>1.86</td>\n",
       "      <td>2502.0</td>\n",
       "      <td>6.6</td>\n",
       "      <td>91.1</td>\n",
       "      <td>3</td>\n",
       "      <td>1.68</td>\n",
       "      <td>53.94</td>\n",
       "      <td>6.11</td>\n",
       "      <td>93</td>\n",
       "    </tr>\n",
       "    <tr>\n",
       "      <th>18190</th>\n",
       "      <td>0.04</td>\n",
       "      <td>1.86</td>\n",
       "      <td>-0.34</td>\n",
       "      <td>2.76</td>\n",
       "      <td>-4.425231</td>\n",
       "      <td>-134.805753</td>\n",
       "      <td>-6.682472</td>\n",
       "      <td>1.701264</td>\n",
       "      <td>35.970088</td>\n",
       "      <td>-8.305544</td>\n",
       "      <td>3.52</td>\n",
       "      <td>1.63</td>\n",
       "      <td>2456.0</td>\n",
       "      <td>6.6</td>\n",
       "      <td>92.3</td>\n",
       "      <td>1</td>\n",
       "      <td>1.34</td>\n",
       "      <td>53.92</td>\n",
       "      <td>6.08</td>\n",
       "      <td>94</td>\n",
       "    </tr>\n",
       "  </tbody>\n",
       "</table>\n",
       "<p>7995 rows × 20 columns</p>\n",
       "</div>"
      ],
      "text/plain": [
       "       pfx_x  pfx_z  plate_x  plate_z       vx0         vy0        vz0  \\\n",
       "1      -0.22   1.65    -0.97     2.82 -4.795000 -137.464000  -7.076000   \n",
       "4      -0.03   1.74    -1.78     1.84 -7.810000 -135.858000  -9.625000   \n",
       "5      -0.66   1.58    -0.12     2.36 -1.940000 -137.062000  -7.767000   \n",
       "7       0.49   1.90     0.96     1.32 -2.652000 -137.073000 -11.628000   \n",
       "8       0.18   1.72    -0.46     3.21 -4.678000 -137.196000  -6.301000   \n",
       "...      ...    ...      ...      ...       ...         ...        ...   \n",
       "18184  -0.40   1.57    -0.33     2.52 -3.524664 -131.515107  -6.378435   \n",
       "18185  -0.37   1.51     0.82     4.29 -0.832675 -132.912806  -2.271370   \n",
       "18187  -0.10   1.71     0.84     3.56 -1.568255 -132.391093  -4.116400   \n",
       "18189   0.00   1.80     1.97     3.64  0.730560 -132.765704  -4.148554   \n",
       "18190   0.04   1.86    -0.34     2.76 -4.425231 -134.805753  -6.682472   \n",
       "\n",
       "             ax         ay         az  sz_top  sz_bot  release_spin_rate  \\\n",
       "1     -1.522000  34.627000 -10.191000    3.61    1.57             2377.0   \n",
       "4      1.261000  27.852000  -9.069000    3.42    1.51             2391.0   \n",
       "5     -7.657000  34.975000 -10.969000    3.42    1.47             2315.0   \n",
       "7      6.630000  29.854000  -6.227000    3.75    1.64             2338.0   \n",
       "8      3.275000  30.735000  -9.518000    3.66    1.54             2253.0   \n",
       "...         ...        ...        ...     ...     ...                ...   \n",
       "18184 -3.980430  26.766435 -12.799638    3.50    1.65             2342.0   \n",
       "18185 -4.220362  27.587624 -14.005365    3.53    1.68             2365.0   \n",
       "18187 -0.745037  33.478473 -11.592067    3.50    1.69             2322.0   \n",
       "18189 -0.161907  32.548116 -10.343355    3.73    1.86             2502.0   \n",
       "18190  1.701264  35.970088  -8.305544    3.52    1.63             2456.0   \n",
       "\n",
       "       release_extension  effective_speed  inning  release_pos_x  \\\n",
       "1                    6.5             94.0       5           0.92   \n",
       "4                    6.6             93.6       5           1.04   \n",
       "5                    6.5             93.8       5           1.14   \n",
       "7                    6.6             94.5       5           1.48   \n",
       "8                    6.7             94.7       5           1.04   \n",
       "...                  ...              ...     ...            ...   \n",
       "18184                6.4             90.7       2           1.43   \n",
       "18185                6.5             91.8       2           1.46   \n",
       "18187                6.5             90.6       2           1.55   \n",
       "18189                6.6             91.1       3           1.68   \n",
       "18190                6.6             92.3       1           1.34   \n",
       "\n",
       "       release_pos_y  release_pos_z  pitch_no  \n",
       "1              50.00           6.14         2  \n",
       "4              50.00           6.04         5  \n",
       "5              50.00           6.01         6  \n",
       "7              50.00           6.04         8  \n",
       "8              50.00           6.19         9  \n",
       "...              ...            ...       ...  \n",
       "18184          54.11           6.11        88  \n",
       "18185          54.02           6.23        89  \n",
       "18187          54.02           6.13        91  \n",
       "18189          53.94           6.11        93  \n",
       "18190          53.92           6.08        94  \n",
       "\n",
       "[7995 rows x 20 columns]"
      ]
     },
     "execution_count": 192,
     "metadata": {},
     "output_type": "execute_result"
    }
   ],
   "source": [
    "X = ck[['pfx_x','pfx_z',\n",
    "            'plate_x','plate_z','vx0','vy0','vz0',\n",
    "            'ax','ay','az','sz_top','sz_bot',\n",
    "            'release_spin_rate','release_extension','effective_speed','inning',\n",
    "            'release_pos_x','release_pos_y','release_pos_z','pitch_no','release_speed']]\n",
    "X.dropna(inplace = True)\n",
    "y = X['release_speed']\n",
    "X.drop(columns = 'release_speed')"
   ]
  },
  {
   "cell_type": "code",
   "execution_count": 193,
   "id": "9b753b58-c9a6-42e8-93c7-7359ed8ccd54",
   "metadata": {},
   "outputs": [],
   "source": [
    "X_train, X_test, y_train, y_test = train_test_split(X, y,\n",
    "                                                    random_state=42)"
   ]
  },
  {
   "cell_type": "code",
   "execution_count": 194,
   "id": "cddc33b9-ece2-4fd2-b641-2eaa2742219f",
   "metadata": {},
   "outputs": [],
   "source": [
    "ss = StandardScaler()\n",
    "X_train = ss.fit_transform(X_train)\n",
    "X_test = ss.transform(X_test)\n",
    "\n",
    "X_train = pd.DataFrame(X_train, columns = ss.get_feature_names_out())\n",
    "X_test = pd.DataFrame(X_test, columns = ss.get_feature_names_out())"
   ]
  },
  {
   "cell_type": "code",
   "execution_count": 195,
   "id": "61b22e04-1bd4-45d6-8414-4c296aa6e7df",
   "metadata": {},
   "outputs": [],
   "source": [
    "poly = PolynomialFeatures()\n",
    "X_train = poly.fit_transform(X_train)\n",
    "X_test = poly.transform(X_test)\n",
    "\n",
    "X_train = pd.DataFrame(X_train, columns = poly.get_feature_names_out())\n",
    "X_test = pd.DataFrame(X_test, columns = poly.get_feature_names_out())"
   ]
  },
  {
   "cell_type": "code",
   "execution_count": 196,
   "id": "e3903f86-0371-4440-bac3-886e4d8d8fee",
   "metadata": {},
   "outputs": [
    {
     "data": {
      "text/plain": [
       "1.8182370499669918"
      ]
     },
     "execution_count": 196,
     "metadata": {},
     "output_type": "execute_result"
    }
   ],
   "source": [
    "base = [np.mean(y_train)] * len(y_test)\n",
    "mean_squared_error(y_test, base, squared=False)"
   ]
  },
  {
   "cell_type": "code",
   "execution_count": 197,
   "id": "b3bebd9d-0b10-4605-b113-4d30f38cd8c5",
   "metadata": {},
   "outputs": [],
   "source": [
    "model = Sequential()\n",
    "model.add(Dense(128,activation = 'relu'))\n",
    "model.add(Dropout(0.2))\n",
    "model.add(Dense(128,activation = 'relu'))\n",
    "model.add(Dropout(0.2))\n",
    "model.add(Dense(128,activation = 'relu'))\n",
    "model.add(Dropout(0.2))\n",
    "model.add(Dense(128,activation = 'relu'))\n",
    "model.add(Dropout(0.2))\n",
    "model.add(Dense(32, activation = 'relu'))\n",
    "model.add(Dense(1,activation = 'linear'))\n",
    "model.compile(loss='mse',optimizer='adam')"
   ]
  },
  {
   "cell_type": "code",
   "execution_count": 198,
   "id": "3cb99103-092f-4793-a5e2-7118bc19286a",
   "metadata": {},
   "outputs": [
    {
     "name": "stdout",
     "output_type": "stream",
     "text": [
      "Epoch 1/10\n",
      "188/188 [==============================] - 2s 4ms/step - loss: 1711.5369 - val_loss: 501.1972\n",
      "Epoch 2/10\n",
      "188/188 [==============================] - 1s 3ms/step - loss: 367.4310 - val_loss: 193.1704\n",
      "Epoch 3/10\n",
      "188/188 [==============================] - 1s 3ms/step - loss: 219.0812 - val_loss: 134.9176\n",
      "Epoch 4/10\n",
      "188/188 [==============================] - 1s 3ms/step - loss: 158.6778 - val_loss: 68.3408\n",
      "Epoch 5/10\n",
      "188/188 [==============================] - 1s 3ms/step - loss: 133.0387 - val_loss: 88.1908\n",
      "Epoch 6/10\n",
      "188/188 [==============================] - 1s 3ms/step - loss: 115.2133 - val_loss: 65.8935\n",
      "Epoch 7/10\n",
      "188/188 [==============================] - 1s 3ms/step - loss: 98.3574 - val_loss: 117.0472\n",
      "Epoch 8/10\n",
      "188/188 [==============================] - 1s 3ms/step - loss: 88.0145 - val_loss: 64.7691\n",
      "Epoch 9/10\n",
      "188/188 [==============================] - 1s 3ms/step - loss: 80.6923 - val_loss: 66.6475\n",
      "Epoch 10/10\n",
      "188/188 [==============================] - 1s 3ms/step - loss: 72.4917 - val_loss: 49.7645\n"
     ]
    },
    {
     "data": {
      "text/plain": [
       "<keras.callbacks.History at 0x230eedc1880>"
      ]
     },
     "execution_count": 198,
     "metadata": {},
     "output_type": "execute_result"
    }
   ],
   "source": [
    "model.fit(X_train,y_train,validation_data=(X_test, y_test), epochs = 10, batch_size = 32)"
   ]
  },
  {
   "cell_type": "code",
   "execution_count": 199,
   "id": "a41e25bb-ef60-4e0a-ac0f-5d120f2a75ba",
   "metadata": {},
   "outputs": [
    {
     "name": "stdout",
     "output_type": "stream",
     "text": [
      "63/63 [==============================] - 0s 1ms/step\n"
     ]
    }
   ],
   "source": [
    "y_pred = model.predict(X_test)"
   ]
  },
  {
   "cell_type": "code",
   "execution_count": 200,
   "id": "351a0041-77ac-4b2c-8117-9dc530031d9f",
   "metadata": {},
   "outputs": [
    {
     "data": {
      "text/plain": [
       "7.054394702303111"
      ]
     },
     "execution_count": 200,
     "metadata": {},
     "output_type": "execute_result"
    }
   ],
   "source": [
    "mean_squared_error(y_test, y_pred, squared=False)"
   ]
  },
  {
   "cell_type": "code",
   "execution_count": null,
   "id": "38a2cf42-9866-463f-9618-ec0b29004c13",
   "metadata": {},
   "outputs": [],
   "source": []
  }
 ],
 "metadata": {
  "kernelspec": {
   "display_name": "Python 3 (ipykernel)",
   "language": "python",
   "name": "python3"
  },
  "language_info": {
   "codemirror_mode": {
    "name": "ipython",
    "version": 3
   },
   "file_extension": ".py",
   "mimetype": "text/x-python",
   "name": "python",
   "nbconvert_exporter": "python",
   "pygments_lexer": "ipython3",
   "version": "3.10.9"
  }
 },
 "nbformat": 4,
 "nbformat_minor": 5
}
