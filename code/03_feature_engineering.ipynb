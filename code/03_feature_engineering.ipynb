{
 "cells": [
  {
   "cell_type": "code",
   "execution_count": 1,
   "id": "46b1e677-1fd1-4cfe-b632-9d24578aa66b",
   "metadata": {
    "tags": []
   },
   "outputs": [],
   "source": [
    "#  Import libraries\n",
    "\n",
    "import pandas as pd\n",
    "import numpy as np\n",
    "import matplotlib.pyplot as plt\n",
    "import seaborn as sns\n",
    "sns.set()\n",
    "\n",
    "from sklearn.preprocessing import StandardScaler\n",
    "import lzma\n",
    "import pickle"
   ]
  },
  {
   "cell_type": "code",
   "execution_count": 5,
   "id": "811d0665-1fb6-4eec-9455-19d856899227",
   "metadata": {},
   "outputs": [],
   "source": [
    "with lzma.open(\"../data/pitches.xz\", \"rb\") as f:\n",
    "    pitches = pickle.load(f)"
   ]
  },
  {
   "cell_type": "code",
   "execution_count": 6,
   "id": "ea76bec3-cba0-469a-b153-b5c44632b87a",
   "metadata": {},
   "outputs": [
    {
     "data": {
      "text/html": [
       "<div>\n",
       "<style scoped>\n",
       "    .dataframe tbody tr th:only-of-type {\n",
       "        vertical-align: middle;\n",
       "    }\n",
       "\n",
       "    .dataframe tbody tr th {\n",
       "        vertical-align: top;\n",
       "    }\n",
       "\n",
       "    .dataframe thead th {\n",
       "        text-align: right;\n",
       "    }\n",
       "</style>\n",
       "<table border=\"1\" class=\"dataframe\">\n",
       "  <thead>\n",
       "    <tr style=\"text-align: right;\">\n",
       "      <th></th>\n",
       "      <th>vx0</th>\n",
       "      <th>vy0</th>\n",
       "      <th>vz0</th>\n",
       "      <th>release_speed</th>\n",
       "      <th>release_spin_rate</th>\n",
       "      <th>pfx_x</th>\n",
       "      <th>pfx_z</th>\n",
       "      <th>plate_x</th>\n",
       "      <th>plate_z</th>\n",
       "      <th>ax</th>\n",
       "      <th>...</th>\n",
       "      <th>sz_bot</th>\n",
       "      <th>pitch_type</th>\n",
       "      <th>player_name</th>\n",
       "      <th>pitch_no</th>\n",
       "      <th>ball</th>\n",
       "      <th>swing</th>\n",
       "      <th>called</th>\n",
       "      <th>foul</th>\n",
       "      <th>out</th>\n",
       "      <th>hit</th>\n",
       "    </tr>\n",
       "  </thead>\n",
       "  <tbody>\n",
       "    <tr>\n",
       "      <th>3295</th>\n",
       "      <td>4.974465</td>\n",
       "      <td>-120.970548</td>\n",
       "      <td>-1.590698</td>\n",
       "      <td>83.1</td>\n",
       "      <td>2275</td>\n",
       "      <td>0.57</td>\n",
       "      <td>-0.13</td>\n",
       "      <td>-0.19</td>\n",
       "      <td>2.35</td>\n",
       "      <td>4.535602</td>\n",
       "      <td>...</td>\n",
       "      <td>1.52</td>\n",
       "      <td>SL</td>\n",
       "      <td>Romano, Jordan</td>\n",
       "      <td>1</td>\n",
       "      <td>0</td>\n",
       "      <td>0</td>\n",
       "      <td>0</td>\n",
       "      <td>0</td>\n",
       "      <td>1</td>\n",
       "      <td>0</td>\n",
       "    </tr>\n",
       "    <tr>\n",
       "      <th>3404</th>\n",
       "      <td>6.550197</td>\n",
       "      <td>-122.185723</td>\n",
       "      <td>-2.165955</td>\n",
       "      <td>84.0</td>\n",
       "      <td>2284</td>\n",
       "      <td>0.46</td>\n",
       "      <td>-0.13</td>\n",
       "      <td>0.13</td>\n",
       "      <td>1.99</td>\n",
       "      <td>3.33423</td>\n",
       "      <td>...</td>\n",
       "      <td>1.52</td>\n",
       "      <td>SL</td>\n",
       "      <td>Romano, Jordan</td>\n",
       "      <td>2</td>\n",
       "      <td>0</td>\n",
       "      <td>0</td>\n",
       "      <td>1</td>\n",
       "      <td>0</td>\n",
       "      <td>0</td>\n",
       "      <td>0</td>\n",
       "    </tr>\n",
       "    <tr>\n",
       "      <th>3519</th>\n",
       "      <td>8.688477</td>\n",
       "      <td>-126.547267</td>\n",
       "      <td>-4.968054</td>\n",
       "      <td>87.1</td>\n",
       "      <td>2224</td>\n",
       "      <td>0.46</td>\n",
       "      <td>-0.26</td>\n",
       "      <td>0.95</td>\n",
       "      <td>1.07</td>\n",
       "      <td>3.120242</td>\n",
       "      <td>...</td>\n",
       "      <td>1.52</td>\n",
       "      <td>SL</td>\n",
       "      <td>Romano, Jordan</td>\n",
       "      <td>3</td>\n",
       "      <td>1</td>\n",
       "      <td>0</td>\n",
       "      <td>0</td>\n",
       "      <td>0</td>\n",
       "      <td>0</td>\n",
       "      <td>0</td>\n",
       "    </tr>\n",
       "    <tr>\n",
       "      <th>3629</th>\n",
       "      <td>8.199169</td>\n",
       "      <td>-140.755107</td>\n",
       "      <td>-5.791813</td>\n",
       "      <td>96.9</td>\n",
       "      <td>2440</td>\n",
       "      <td>-0.01</td>\n",
       "      <td>1.61</td>\n",
       "      <td>0.17</td>\n",
       "      <td>3.2</td>\n",
       "      <td>-1.983056</td>\n",
       "      <td>...</td>\n",
       "      <td>1.58</td>\n",
       "      <td>FF</td>\n",
       "      <td>Romano, Jordan</td>\n",
       "      <td>4</td>\n",
       "      <td>0</td>\n",
       "      <td>1</td>\n",
       "      <td>0</td>\n",
       "      <td>0</td>\n",
       "      <td>0</td>\n",
       "      <td>0</td>\n",
       "    </tr>\n",
       "    <tr>\n",
       "      <th>3702</th>\n",
       "      <td>7.799187</td>\n",
       "      <td>-136.869501</td>\n",
       "      <td>-4.917298</td>\n",
       "      <td>94.2</td>\n",
       "      <td>2353</td>\n",
       "      <td>-0.22</td>\n",
       "      <td>1.55</td>\n",
       "      <td>-0.5</td>\n",
       "      <td>3.01</td>\n",
       "      <td>-4.529335</td>\n",
       "      <td>...</td>\n",
       "      <td>1.58</td>\n",
       "      <td>FF</td>\n",
       "      <td>Romano, Jordan</td>\n",
       "      <td>5</td>\n",
       "      <td>0</td>\n",
       "      <td>1</td>\n",
       "      <td>0</td>\n",
       "      <td>0</td>\n",
       "      <td>0</td>\n",
       "      <td>0</td>\n",
       "    </tr>\n",
       "  </tbody>\n",
       "</table>\n",
       "<p>5 rows × 31 columns</p>\n",
       "</div>"
      ],
      "text/plain": [
       "           vx0         vy0       vz0  release_speed  release_spin_rate  pfx_x  \\\n",
       "3295  4.974465 -120.970548 -1.590698           83.1               2275   0.57   \n",
       "3404  6.550197 -122.185723 -2.165955           84.0               2284   0.46   \n",
       "3519  8.688477 -126.547267 -4.968054           87.1               2224   0.46   \n",
       "3629  8.199169 -140.755107 -5.791813           96.9               2440  -0.01   \n",
       "3702  7.799187 -136.869501 -4.917298           94.2               2353  -0.22   \n",
       "\n",
       "      pfx_z  plate_x  plate_z        ax  ...  sz_bot  pitch_type  \\\n",
       "3295  -0.13    -0.19     2.35  4.535602  ...    1.52          SL   \n",
       "3404  -0.13     0.13     1.99   3.33423  ...    1.52          SL   \n",
       "3519  -0.26     0.95     1.07  3.120242  ...    1.52          SL   \n",
       "3629   1.61     0.17      3.2 -1.983056  ...    1.58          FF   \n",
       "3702   1.55     -0.5     3.01 -4.529335  ...    1.58          FF   \n",
       "\n",
       "         player_name  pitch_no  ball  swing  called  foul  out  hit  \n",
       "3295  Romano, Jordan         1     0      0       0     0    1    0  \n",
       "3404  Romano, Jordan         2     0      0       1     0    0    0  \n",
       "3519  Romano, Jordan         3     1      0       0     0    0    0  \n",
       "3629  Romano, Jordan         4     0      1       0     0    0    0  \n",
       "3702  Romano, Jordan         5     0      1       0     0    0    0  \n",
       "\n",
       "[5 rows x 31 columns]"
      ]
     },
     "execution_count": 6,
     "metadata": {},
     "output_type": "execute_result"
    }
   ],
   "source": [
    "#  View data\n",
    "pitches.head()"
   ]
  },
  {
   "cell_type": "code",
   "execution_count": 7,
   "id": "815f0735-0ed8-4eea-bc10-fe17a992a815",
   "metadata": {},
   "outputs": [
    {
     "data": {
      "text/plain": [
       "Index(['vx0', 'vy0', 'vz0', 'release_speed', 'release_spin_rate', 'pfx_x',\n",
       "       'pfx_z', 'plate_x', 'plate_z', 'ax', 'ay', 'az', 'release_pos_x',\n",
       "       'release_pos_y', 'release_pos_z', 'vz0*2', 'pfx_z*2', 'plate_z*2',\n",
       "       'p_throws', 'starter', 'sz_top', 'sz_bot', 'pitch_type', 'player_name',\n",
       "       'pitch_no', 'ball', 'swing', 'called', 'foul', 'out', 'hit'],\n",
       "      dtype='object')"
      ]
     },
     "execution_count": 7,
     "metadata": {},
     "output_type": "execute_result"
    }
   ],
   "source": [
    "#  View columns\n",
    "pitches.columns"
   ]
  },
  {
   "cell_type": "code",
   "execution_count": 8,
   "id": "f12f378f-3ec9-4843-b445-57ad427d5073",
   "metadata": {},
   "outputs": [
    {
     "data": {
      "text/plain": [
       "0"
      ]
     },
     "execution_count": 8,
     "metadata": {},
     "output_type": "execute_result"
    }
   ],
   "source": [
    "#  Check again for nulls\n",
    "pitches.isnull().sum().sum()"
   ]
  },
  {
   "cell_type": "code",
   "execution_count": 9,
   "id": "c7af2029-fd74-4b5a-833f-96ffe8cc3816",
   "metadata": {},
   "outputs": [],
   "source": [
    "X = pitches.drop(columns = 'pitch_no')\n",
    "\n",
    "#  Square root transformation to normalize data \n",
    "## more effective at normalization than log-transform for this dataset\n",
    "y = pd.DataFrame([x ** 0.5 for x in pitches['pitch_no']])"
   ]
  },
  {
   "cell_type": "code",
   "execution_count": 31,
   "id": "5a3781f0-0c9f-48f2-b8f6-daf52ea6015b",
   "metadata": {},
   "outputs": [
    {
     "data": {
      "image/png": "[encoded data removed]",
      "text/plain": [
       "<Figure size 1000x400 with 2 Axes>"
      ]
     },
     "metadata": {},
     "output_type": "display_data"
    }
   ],
   "source": [
    "fig, axs = plt.subplots(1,2, figsize = (10,4))\n",
    "axs[0].hist(pitches['pitch_no'],bins = 100, density = True)\n",
    "axs[1].hist((pitches['pitch_no'] ** 0.5),bins = 100, density = True);"
   ]
  },
  {
   "cell_type": "code",
   "execution_count": 11,
   "id": "2d3a81dc-b14b-46dc-bad9-e8a576e0d5a3",
   "metadata": {},
   "outputs": [],
   "source": [
    "#  Preserve dummified columns for later processing\n",
    "X['pitch_type_orig'] = X['pitch_type']\n",
    "X['player_name_orig'] = X['player_name']"
   ]
  },
  {
   "cell_type": "code",
   "execution_count": 12,
   "id": "333cd5b9-bcc3-449e-b651-fc7e697bf0ff",
   "metadata": {},
   "outputs": [],
   "source": [
    "#  Dummify pitch type and pitcher name (only categorical columns in remaining data)\n",
    "X = pd.get_dummies(X, columns = ['pitch_type','player_name'])"
   ]
  },
  {
   "cell_type": "code",
   "execution_count": 13,
   "id": "cf2894d7-4b93-4764-bcef-93db507bab81",
   "metadata": {},
   "outputs": [],
   "source": [
    "#  Train-test-split\n",
    "X_train, X_test, y_train, y_test = train_test_split(X, y, random_state=42)"
   ]
  },
  {
   "cell_type": "code",
   "execution_count": 14,
   "id": "b759ca28-da31-49fc-8d8a-be57e6355193",
   "metadata": {},
   "outputs": [
    {
     "data": {
      "text/plain": [
       "Index(['vx0', 'vy0', 'vz0', 'release_speed', 'release_spin_rate', 'pfx_x',\n",
       "       'pfx_z', 'plate_x', 'plate_z', 'ax', 'ay', 'az', 'release_pos_x',\n",
       "       'release_pos_y', 'release_pos_z', 'vz0*2', 'pfx_z*2', 'plate_z*2',\n",
       "       'p_throws', 'starter', 'sz_top', 'sz_bot', 'pitch_type', 'player_name',\n",
       "       'pitch_no', 'ball', 'swing', 'called', 'foul', 'out', 'hit'],\n",
       "      dtype='object')"
      ]
     },
     "execution_count": 14,
     "metadata": {},
     "output_type": "execute_result"
    }
   ],
   "source": [
    "pitches.columns"
   ]
  },
  {
   "cell_type": "code",
   "execution_count": 15,
   "id": "ae0168c3-e14a-46f8-89f6-a687a92f2d6f",
   "metadata": {},
   "outputs": [],
   "source": [
    "#  Generating new features\n",
    "for col in pitches.columns[:-12]: \n",
    "    \n",
    "    # get avg metrics from train data by player and pitch type\n",
    "    X_train[f'{col}_avg'] = X_train.groupby(['player_name_orig','pitch_type_orig'])[col].transform('mean')\n",
    "    \n",
    "    # store averages in a variable\n",
    "    avgs = X_train.groupby(['player_name_orig', 'pitch_type_orig'])[col].mean().reset_index()\n",
    "    \n",
    "    # merge averages onto test data \n",
    "    merge = X_test.merge(avgs, on = ['player_name_orig','pitch_type_orig'], how = 'left')\n",
    "    X_test[f'{col}_avg'] = merge[col + '_y']\n",
    "    \n",
    "    # create new columns for differential from train avg in both train and test data\n",
    "    X_train[f'{col}_diff'] = X_train[col] - X_train[f'{col}_avg']\n",
    "    X_test[f'{col}_diff'] = X_test[col] - X_test[f'{col}_avg']    \n",
    "    "
   ]
  },
  {
   "cell_type": "code",
   "execution_count": 16,
   "id": "492fb1ef-0d68-4072-9265-25c1776b7a5e",
   "metadata": {},
   "outputs": [],
   "source": [
    "#  Drop categorical columns now that they have been dummified and used for grouped avgs\n",
    "X_train.drop(columns = ['player_name_orig', 'pitch_type_orig'], inplace = True)\n",
    "X_test.drop(columns = ['player_name_orig', 'pitch_type_orig'], inplace = True)"
   ]
  },
  {
   "cell_type": "code",
   "execution_count": 17,
   "id": "af4749c3-e3b6-4d9b-8b9c-bc1ca5e6a579",
   "metadata": {},
   "outputs": [
    {
     "data": {
      "text/plain": [
       "0"
      ]
     },
     "execution_count": 17,
     "metadata": {},
     "output_type": "execute_result"
    }
   ],
   "source": [
    "#  Check again for nulls\n",
    "X_train.isnull().sum().sum()"
   ]
  },
  {
   "cell_type": "code",
   "execution_count": 18,
   "id": "0bb22014-b2a0-4afd-9318-f4af7309e2bd",
   "metadata": {},
   "outputs": [
    {
     "data": {
      "text/plain": [
       "494"
      ]
     },
     "execution_count": 18,
     "metadata": {},
     "output_type": "execute_result"
    }
   ],
   "source": [
    "X_test.isnull().sum().sum()"
   ]
  },
  {
   "cell_type": "code",
   "execution_count": 19,
   "id": "b6a46b24-5418-43fc-9fb3-b49010fb0a40",
   "metadata": {},
   "outputs": [],
   "source": [
    "#  The merge above created nulls in X_test, but not in X_test\n",
    "#  Combine X_test and y_test to drop indices of nulls\n",
    "\n",
    "X_test = X_test.reset_index(drop = True)\n",
    "y_test = y_test.reset_index(drop = True)\n",
    "combined = pd.concat([X_test, y_test], axis = 1)\n",
    "combined.dropna(inplace = True)\n",
    "X_test = combined.iloc[:,:-1]\n",
    "y_test = combined.iloc[:,-1]"
   ]
  },
  {
   "cell_type": "code",
   "execution_count": 20,
   "id": "c710c31b-24d3-45ea-a2eb-a08aafe0e835",
   "metadata": {},
   "outputs": [
    {
     "data": {
      "text/plain": [
       "((107897, 629), (35953, 629), (107897, 1), (35953,))"
      ]
     },
     "execution_count": 20,
     "metadata": {},
     "output_type": "execute_result"
    }
   ],
   "source": [
    "# Check shapes\n",
    "X_train.shape, X_test.shape, y_train.shape, y_test.shape"
   ]
  },
  {
   "cell_type": "code",
   "execution_count": 21,
   "id": "7c375a99-b2c2-4616-bdcd-923be683ffdf",
   "metadata": {},
   "outputs": [],
   "source": [
    "#  Reshape y_train \n",
    "y_train = y_train.squeeze()"
   ]
  },
  {
   "cell_type": "code",
   "execution_count": 22,
   "id": "37e4d5a8-ad9b-455b-9865-890809fd1f0b",
   "metadata": {},
   "outputs": [],
   "source": [
    "# Rescale and reshape as df\n",
    "ss = StandardScaler()\n",
    "X_train = ss.fit_transform(X_train)\n",
    "X_test = ss.transform(X_test)"
   ]
  },
  {
   "cell_type": "code",
   "execution_count": 23,
   "id": "82e2a08d-671f-4663-93d3-13c544a4d3aa",
   "metadata": {},
   "outputs": [],
   "source": [
    "X_train = pd.DataFrame(X_train, columns = ss.get_feature_names_out())\n",
    "X_test = pd.DataFrame(X_test, columns = ss.get_feature_names_out())"
   ]
  },
  {
   "cell_type": "code",
   "execution_count": 24,
   "id": "aac2e941-52f9-4f47-9649-7bf2faf8cf5a",
   "metadata": {},
   "outputs": [],
   "source": [
    "#  Compress large-width X dfs and save to data folder \n",
    "with lzma.open(\"../data/X_train.xz\", \"wb\") as f:\n",
    "    pickle.dump(X_train, f)\n",
    "with lzma.open(\"../data/X_test.xz\", \"wb\") as f:\n",
    "    pickle.dump(X_test, f)"
   ]
  },
  {
   "cell_type": "code",
   "execution_count": 25,
   "id": "09469694-ac18-4ff8-aed8-64da922ca2d0",
   "metadata": {},
   "outputs": [],
   "source": [
    "#  Write single-column y dfs to data folder as csv\n",
    "y_train.to_csv('../data/y_train.csv',index = False)\n",
    "y_test.to_csv('../data/y_test.csv', index = False)"
   ]
  },
  {
   "cell_type": "code",
   "execution_count": 26,
   "id": "f471d15c-e0b8-4437-879d-ceaa7030c11b",
   "metadata": {},
   "outputs": [],
   "source": [
    "# save scaler to app folder\n",
    "pickle.dump(ss, open('../app/scaler.pkl', 'wb'))"
   ]
  }
 ],
 "metadata": {
  "kernelspec": {
   "display_name": "Python 3 (ipykernel)",
   "language": "python",
   "name": "python3"
  },
  "language_info": {
   "codemirror_mode": {
    "name": "ipython",
    "version": 3
   },
   "file_extension": ".py",
   "mimetype": "text/x-python",
   "name": "python",
   "nbconvert_exporter": "python",
   "pygments_lexer": "ipython3",
   "version": "3.10.9"
  }
 },
 "nbformat": 4,
 "nbformat_minor": 5
}
